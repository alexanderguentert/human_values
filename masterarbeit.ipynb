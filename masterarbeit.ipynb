{
 "cells": [
  {
   "cell_type": "markdown",
   "metadata": {},
   "source": [
    "# Nachstellung der Berechungen für Masterarbeit in Python"
   ]
  },
  {
   "cell_type": "markdown",
   "metadata": {},
   "source": [
    "## Universelle Werte und Religion: Eine Sekundärdatenanalyse zum Zusammenhang von Wertorientierungen und Religiosität in Deutschland\n",
    "\n",
    "Datengrundlage: European Social Survey (Round 6): https://www.europeansocialsurvey.org/\n",
    "\n",
    "Basierend auf Theorie universeller menschlicher Werte von S. Schwartz: https://en.wikipedia.org/wiki/Theory_of_Basic_Human_Values\n",
    "\n",
    "Nachgerechnet wird Teil II: Werte und Religiosität\n",
    "\n",
    "Die Theorie prognostiziert, dass sich die Korrelationen der Schwartz-Werte mit Religiosität als Sinusförmige Kurve darstellen lassen. Stärkste negative Korrelation (-> Zustimmung) bei Tradition, stärkste positive Korrelation (-> Ablehnung) bei Hedonism.\n",
    "\n",
    "\n",
    "Quelle: Schwartz, Shalom H. / Huismans, Sipke (1995): Value Priorities and Religiosity in Four Western Religions. In:  Social Psychology Quarterly, Vol. 58, No. 2 (Jun., 1995), pp. 88-107 "
   ]
  },
  {
   "cell_type": "code",
   "execution_count": 1,
   "metadata": {},
   "outputs": [
    {
     "data": {
      "text/html": [
       "        <script type=\"text/javascript\">\n",
       "        window.PlotlyConfig = {MathJaxConfig: 'local'};\n",
       "        if (window.MathJax) {MathJax.Hub.Config({SVG: {font: \"STIX-Web\"}});}\n",
       "        if (typeof require !== 'undefined') {\n",
       "        require.undef(\"plotly\");\n",
       "        requirejs.config({\n",
       "            paths: {\n",
       "                'plotly': ['https://cdn.plot.ly/plotly-latest.min']\n",
       "            }\n",
       "        });\n",
       "        require(['plotly'], function(Plotly) {\n",
       "            window._Plotly = Plotly;\n",
       "        });\n",
       "        }\n",
       "        </script>\n",
       "        "
      ]
     },
     "metadata": {},
     "output_type": "display_data"
    }
   ],
   "source": [
    "import pandas as pd\n",
    "import numpy as np\n",
    "import seaborn as sns\n",
    "import plotly.express as px\n",
    "import plotly.offline as py\n",
    "py.init_notebook_mode(connected=True) \n",
    "\n",
    " \n",
    "from factor_analyzer import FactorAnalyzer\n",
    "import matplotlib.pyplot as plt\n",
    "import pingouin as pg"
   ]
  },
  {
   "cell_type": "code",
   "execution_count": 2,
   "metadata": {},
   "outputs": [
    {
     "name": "stderr",
     "output_type": "stream",
     "text": [
      "/home/alex/miniconda3/lib/python3.8/site-packages/outdated/utils.py:14: OutdatedPackageWarning:\n",
      "\n",
      "The package pingouin is out of date. Your version is 0.3.8, the latest is 0.4.0.\n",
      "Set the environment variable OUTDATED_IGNORE=1 to disable these warnings.\n",
      "\n",
      "/home/alex/miniconda3/lib/python3.8/site-packages/outdated/utils.py:14: OutdatedPackageWarning:\n",
      "\n",
      "The package outdated is out of date. Your version is 0.2.0, the latest is 0.2.1.\n",
      "Set the environment variable OUTDATED_IGNORE=1 to disable these warnings.\n",
      "\n"
     ]
    }
   ],
   "source": [
    "ess = pd.read_csv('daten/ess6de.csv',sep=';',low_memory=False,keep_default_na=True,na_values=['',' '])"
   ]
  },
  {
   "cell_type": "code",
   "execution_count": 3,
   "metadata": {},
   "outputs": [
    {
     "data": {
      "text/html": [
       "<div>\n",
       "<style scoped>\n",
       "    .dataframe tbody tr th:only-of-type {\n",
       "        vertical-align: middle;\n",
       "    }\n",
       "\n",
       "    .dataframe tbody tr th {\n",
       "        vertical-align: top;\n",
       "    }\n",
       "\n",
       "    .dataframe thead th {\n",
       "        text-align: right;\n",
       "    }\n",
       "</style>\n",
       "<table border=\"1\" class=\"dataframe\">\n",
       "  <thead>\n",
       "    <tr style=\"text-align: right;\">\n",
       "      <th></th>\n",
       "      <th>name</th>\n",
       "      <th>essround</th>\n",
       "      <th>edition</th>\n",
       "      <th>proddate</th>\n",
       "      <th>idno</th>\n",
       "      <th>cntry</th>\n",
       "      <th>tvtot</th>\n",
       "      <th>tvpol</th>\n",
       "      <th>ppltrst</th>\n",
       "      <th>pplfair</th>\n",
       "      <th>...</th>\n",
       "      <th>inwemm</th>\n",
       "      <th>inwtm</th>\n",
       "      <th>spltadme</th>\n",
       "      <th>supqad1</th>\n",
       "      <th>supqad2</th>\n",
       "      <th>supqdd</th>\n",
       "      <th>supqmm</th>\n",
       "      <th>supqyr</th>\n",
       "      <th>dweight</th>\n",
       "      <th>pweight</th>\n",
       "    </tr>\n",
       "  </thead>\n",
       "  <tbody>\n",
       "    <tr>\n",
       "      <th>0</th>\n",
       "      <td>ESS6e01_2</td>\n",
       "      <td>6</td>\n",
       "      <td>1.2</td>\n",
       "      <td>13.01.2014</td>\n",
       "      <td>11000031</td>\n",
       "      <td>DE</td>\n",
       "      <td>2.0</td>\n",
       "      <td>1.0</td>\n",
       "      <td>3.0</td>\n",
       "      <td>8.0</td>\n",
       "      <td>...</td>\n",
       "      <td>37</td>\n",
       "      <td>47.0</td>\n",
       "      <td>1</td>\n",
       "      <td>NaN</td>\n",
       "      <td>1</td>\n",
       "      <td>13</td>\n",
       "      <td>9</td>\n",
       "      <td>2012</td>\n",
       "      <td>1,23695315465278</td>\n",
       "      <td>2,400664469</td>\n",
       "    </tr>\n",
       "    <tr>\n",
       "      <th>1</th>\n",
       "      <td>ESS6e01_2</td>\n",
       "      <td>6</td>\n",
       "      <td>1.2</td>\n",
       "      <td>13.01.2014</td>\n",
       "      <td>11000041</td>\n",
       "      <td>DE</td>\n",
       "      <td>7.0</td>\n",
       "      <td>5.0</td>\n",
       "      <td>7.0</td>\n",
       "      <td>7.0</td>\n",
       "      <td>...</td>\n",
       "      <td>23</td>\n",
       "      <td>82.0</td>\n",
       "      <td>1</td>\n",
       "      <td>NaN</td>\n",
       "      <td>1</td>\n",
       "      <td>20</td>\n",
       "      <td>9</td>\n",
       "      <td>2012</td>\n",
       "      <td>1,23695315465278</td>\n",
       "      <td>2,400664469</td>\n",
       "    </tr>\n",
       "    <tr>\n",
       "      <th>2</th>\n",
       "      <td>ESS6e01_2</td>\n",
       "      <td>6</td>\n",
       "      <td>1.2</td>\n",
       "      <td>13.01.2014</td>\n",
       "      <td>11000051</td>\n",
       "      <td>DE</td>\n",
       "      <td>3.0</td>\n",
       "      <td>1.0</td>\n",
       "      <td>3.0</td>\n",
       "      <td>5.0</td>\n",
       "      <td>...</td>\n",
       "      <td>41</td>\n",
       "      <td>63.0</td>\n",
       "      <td>1</td>\n",
       "      <td>NaN</td>\n",
       "      <td>1</td>\n",
       "      <td>20</td>\n",
       "      <td>9</td>\n",
       "      <td>2012</td>\n",
       "      <td>0,540573923441953</td>\n",
       "      <td>2,400664469</td>\n",
       "    </tr>\n",
       "    <tr>\n",
       "      <th>3</th>\n",
       "      <td>ESS6e01_2</td>\n",
       "      <td>6</td>\n",
       "      <td>1.2</td>\n",
       "      <td>13.01.2014</td>\n",
       "      <td>11000061</td>\n",
       "      <td>DE</td>\n",
       "      <td>7.0</td>\n",
       "      <td>1.0</td>\n",
       "      <td>6.0</td>\n",
       "      <td>5.0</td>\n",
       "      <td>...</td>\n",
       "      <td>7</td>\n",
       "      <td>53.0</td>\n",
       "      <td>1</td>\n",
       "      <td>NaN</td>\n",
       "      <td>1</td>\n",
       "      <td>30</td>\n",
       "      <td>11</td>\n",
       "      <td>2012</td>\n",
       "      <td>1,23695315465278</td>\n",
       "      <td>2,400664469</td>\n",
       "    </tr>\n",
       "    <tr>\n",
       "      <th>4</th>\n",
       "      <td>ESS6e01_2</td>\n",
       "      <td>6</td>\n",
       "      <td>1.2</td>\n",
       "      <td>13.01.2014</td>\n",
       "      <td>11000071</td>\n",
       "      <td>DE</td>\n",
       "      <td>4.0</td>\n",
       "      <td>1.0</td>\n",
       "      <td>5.0</td>\n",
       "      <td>6.0</td>\n",
       "      <td>...</td>\n",
       "      <td>58</td>\n",
       "      <td>57.0</td>\n",
       "      <td>1</td>\n",
       "      <td>NaN</td>\n",
       "      <td>1</td>\n",
       "      <td>21</td>\n",
       "      <td>9</td>\n",
       "      <td>2012</td>\n",
       "      <td>1,23695315465278</td>\n",
       "      <td>2,400664469</td>\n",
       "    </tr>\n",
       "  </tbody>\n",
       "</table>\n",
       "<p>5 rows × 586 columns</p>\n",
       "</div>"
      ],
      "text/plain": [
       "        name  essround  edition    proddate      idno cntry  tvtot  tvpol  \\\n",
       "0  ESS6e01_2         6      1.2  13.01.2014  11000031    DE    2.0    1.0   \n",
       "1  ESS6e01_2         6      1.2  13.01.2014  11000041    DE    7.0    5.0   \n",
       "2  ESS6e01_2         6      1.2  13.01.2014  11000051    DE    3.0    1.0   \n",
       "3  ESS6e01_2         6      1.2  13.01.2014  11000061    DE    7.0    1.0   \n",
       "4  ESS6e01_2         6      1.2  13.01.2014  11000071    DE    4.0    1.0   \n",
       "\n",
       "   ppltrst  pplfair  ...  inwemm  inwtm  spltadme  supqad1  supqad2  supqdd  \\\n",
       "0      3.0      8.0  ...      37   47.0         1      NaN        1      13   \n",
       "1      7.0      7.0  ...      23   82.0         1      NaN        1      20   \n",
       "2      3.0      5.0  ...      41   63.0         1      NaN        1      20   \n",
       "3      6.0      5.0  ...       7   53.0         1      NaN        1      30   \n",
       "4      5.0      6.0  ...      58   57.0         1      NaN        1      21   \n",
       "\n",
       "   supqmm  supqyr            dweight      pweight  \n",
       "0       9    2012   1,23695315465278  2,400664469  \n",
       "1       9    2012   1,23695315465278  2,400664469  \n",
       "2       9    2012  0,540573923441953  2,400664469  \n",
       "3      11    2012   1,23695315465278  2,400664469  \n",
       "4       9    2012   1,23695315465278  2,400664469  \n",
       "\n",
       "[5 rows x 586 columns]"
      ]
     },
     "execution_count": 3,
     "metadata": {},
     "output_type": "execute_result"
    }
   ],
   "source": [
    "ess.head()"
   ]
  },
  {
   "cell_type": "markdown",
   "metadata": {},
   "source": [
    "## Filter"
   ]
  },
  {
   "cell_type": "markdown",
   "metadata": {},
   "source": [
    "Filtereinstellungen"
   ]
  },
  {
   "cell_type": "code",
   "execution_count": 4,
   "metadata": {},
   "outputs": [],
   "source": [
    "filter_vars = {\n",
    "    'name' : {\n",
    "      'ESS6e01_2':'Insgesamt'  \n",
    "    },\n",
    "    'rlgdnm': {\n",
    "        1 : 'Katholiken',\n",
    "        2 : 'Protestanten',\n",
    "    },\n",
    "    'rlgblg' : {\n",
    "        2 : 'konfessionslos',\n",
    "    },\n",
    "    'intewde' : {\n",
    "        1 : 'Ostdeutschland',\n",
    "        2 : 'Westdeutschland'\n",
    "    }\n",
    "}"
   ]
  },
  {
   "cell_type": "markdown",
   "metadata": {},
   "source": [
    "## Schwarz Werte"
   ]
  },
  {
   "cell_type": "code",
   "execution_count": 5,
   "metadata": {},
   "outputs": [],
   "source": [
    "schwarz_items = {\n",
    "    'selfdirection' : ['ipcrtiv','impfree'],\n",
    "    'stimulation' : ['impdiff', 'ipadvnt'],\n",
    "    'hedonism' : ['ipgdtim', 'impfun'],\n",
    "    'achievement' : ['ipshabt', 'ipsuces'],\n",
    "    'power' : ['imprich', 'iprspot'],\n",
    "    'security' :['impsafe', 'ipstrgv'],\n",
    "    'conformity' : ['ipfrule', 'ipbhprp'],\n",
    "    'tradition' : ['ipmodst', 'imptrad'],\n",
    "    'benevolence' : ['iphlppl', 'iplylfr'],\n",
    "    'universalism' : ['ipeqopt', 'ipudrst', 'impenv'],    \n",
    "}"
   ]
  },
  {
   "cell_type": "code",
   "execution_count": 6,
   "metadata": {},
   "outputs": [],
   "source": [
    "def compute_schwarz_values(df,schwarz_items):\n",
    "    '''\n",
    "    Computes Schwarz values as mean of questionaire items.\n",
    "    '''\n",
    "    for value in schwarz_items:\n",
    "        items = schwarz_items[value]\n",
    "        df[value] = df[items].mean(axis=1)\n",
    "    return df\n",
    "\n",
    "def CronbachAlpha(itemscores):\n",
    "    '''\n",
    "    See: \n",
    "    https://mathtuition88.com/2019/09/13/calculate-cronbach-alpha-using-python/\n",
    "    '''\n",
    "    itemscores = np.asarray(itemscores)\n",
    "    itemvars = itemscores.var(axis=0, ddof=1)\n",
    "    tscores = itemscores.sum(axis=1)\n",
    "    nitems = itemscores.shape[1]\n",
    "\n",
    "    return (nitems / (nitems-1)) * (1 - (itemvars.sum() / tscores.var(ddof=1)))"
   ]
  },
  {
   "cell_type": "code",
   "execution_count": 7,
   "metadata": {},
   "outputs": [],
   "source": [
    "ess = compute_schwarz_values(ess,schwarz_items)"
   ]
  },
  {
   "cell_type": "code",
   "execution_count": 8,
   "metadata": {},
   "outputs": [
    {
     "name": "stdout",
     "output_type": "stream",
     "text": [
      "Cronbachs Alpha\n",
      "selfdirection :\t 0.416698211306177\n",
      "stimulation :\t 0.5847756245253464\n",
      "hedonism :\t 0.7008337908072337\n",
      "achievement :\t 0.6445502207667455\n",
      "power :\t 0.37837202427731187\n",
      "security :\t 0.5632188858884548\n",
      "conformity :\t 0.540205009242539\n",
      "tradition :\t 0.32663078389763633\n",
      "benevolence :\t 0.5284161639842846\n",
      "universalism :\t 0.4548159927725508\n"
     ]
    }
   ],
   "source": [
    "print('Cronbachs Alpha')\n",
    "for value in schwarz_items:\n",
    "    items = schwarz_items[value]\n",
    "    alpha = CronbachAlpha(ess[items].dropna())\n",
    "    print(value, ':\\t',alpha)"
   ]
  },
  {
   "cell_type": "markdown",
   "metadata": {},
   "source": [
    "Mittelwert über alle Werte je Person zur Kontrolle von Skalennutzungseffekten:"
   ]
  },
  {
   "cell_type": "code",
   "execution_count": 9,
   "metadata": {},
   "outputs": [],
   "source": [
    "ess['mittelwschwartz'] = ess[schwarz_items.keys()].mean(axis=1)"
   ]
  },
  {
   "cell_type": "code",
   "execution_count": null,
   "metadata": {},
   "outputs": [],
   "source": []
  },
  {
   "cell_type": "markdown",
   "metadata": {},
   "source": [
    "## Index Religiosität"
   ]
  },
  {
   "cell_type": "markdown",
   "metadata": {},
   "source": [
    "\"How religious are you?\"\n",
    "0 = not at all\n",
    "1 = very"
   ]
  },
  {
   "cell_type": "code",
   "execution_count": 10,
   "metadata": {},
   "outputs": [],
   "source": [
    "ess['rlgdgr_neu'] = ess['rlgdgr']*0.1\n",
    "#ess[['rlgdgr','rlgdgr_neu']]"
   ]
  },
  {
   "cell_type": "markdown",
   "metadata": {},
   "source": [
    "Umkodieren Attend religous services.\n",
    "1 'Every Day' 0.274 'More than once a day' 0.142 'Once a week' 0.033 'At least once a month' 0.008 'Only on special holy days' 0.002 'Less often' 0 'Never'."
   ]
  },
  {
   "cell_type": "code",
   "execution_count": 11,
   "metadata": {},
   "outputs": [
    {
     "data": {
      "text/plain": [
       "{1: 1, 2: 0.274, 3: 0.142, 4: 0.033, 5: 0.008, 6: 0.002, 7: 0}"
      ]
     },
     "execution_count": 11,
     "metadata": {},
     "output_type": "execute_result"
    }
   ],
   "source": [
    "recode_dict = {\n",
    "    1:1,\n",
    "    2:0.274,\n",
    "    3:0.142,\n",
    "    4:0.033,\n",
    "    5:0.008,\n",
    "    6:0.002,\n",
    "    7:0,\n",
    "}\n",
    "recode_dict"
   ]
  },
  {
   "cell_type": "code",
   "execution_count": 12,
   "metadata": {},
   "outputs": [],
   "source": [
    "ess['rlgatnd_neu'] = ess['rlgatnd'].replace(recode_dict)"
   ]
  },
  {
   "cell_type": "markdown",
   "metadata": {},
   "source": [
    "Umkodieren Gebetshäufigkeit (gleiche Ausprägungen)"
   ]
  },
  {
   "cell_type": "code",
   "execution_count": 13,
   "metadata": {},
   "outputs": [],
   "source": [
    "ess['pray_neu'] = ess['pray'].replace(recode_dict)"
   ]
  },
  {
   "cell_type": "markdown",
   "metadata": {},
   "source": [
    "Reabilität Neue SKala (Cronbach)"
   ]
  },
  {
   "cell_type": "code",
   "execution_count": 14,
   "metadata": {},
   "outputs": [
    {
     "data": {
      "text/plain": [
       "0.6005552972413457"
      ]
     },
     "execution_count": 14,
     "metadata": {},
     "output_type": "execute_result"
    }
   ],
   "source": [
    "CronbachAlpha(ess[['rlgdgr_neu', 'rlgatnd_neu', 'pray_neu']].dropna())"
   ]
  },
  {
   "cell_type": "markdown",
   "metadata": {},
   "source": [
    "### Faktorenanalyse"
   ]
  },
  {
   "cell_type": "code",
   "execution_count": 15,
   "metadata": {},
   "outputs": [],
   "source": [
    "df = ess[['rlgdgr_neu', 'rlgatnd_neu', 'pray_neu']]"
   ]
  },
  {
   "cell_type": "code",
   "execution_count": 16,
   "metadata": {},
   "outputs": [],
   "source": [
    "fa = FactorAnalyzer(rotation=None)"
   ]
  },
  {
   "cell_type": "code",
   "execution_count": 17,
   "metadata": {},
   "outputs": [
    {
     "data": {
      "text/plain": [
       "FactorAnalyzer(rotation=None, rotation_kwargs={})"
      ]
     },
     "execution_count": 17,
     "metadata": {},
     "output_type": "execute_result"
    }
   ],
   "source": [
    "fa.fit(df)"
   ]
  },
  {
   "cell_type": "code",
   "execution_count": 18,
   "metadata": {},
   "outputs": [
    {
     "data": {
      "text/plain": [
       "array([[ 0.70808694, -0.14297856,  0.07222166],\n",
       "       [ 0.50612015,  0.24021599,  0.03294684],\n",
       "       [ 0.7561938 , -0.02689377, -0.08967843]])"
      ]
     },
     "execution_count": 18,
     "metadata": {},
     "output_type": "execute_result"
    }
   ],
   "source": [
    "fa.loadings_"
   ]
  },
  {
   "cell_type": "code",
   "execution_count": 19,
   "metadata": {},
   "outputs": [
    {
     "data": {
      "text/plain": [
       "Text(0, 0.5, 'Eigenvalue')"
      ]
     },
     "execution_count": 19,
     "metadata": {},
     "output_type": "execute_result"
    },
    {
     "data": {
      "image/png": "[encoded data removed]",
      "text/plain": [
       "<Figure size 432x288 with 1 Axes>"
      ]
     },
     "metadata": {
      "needs_background": "light"
     },
     "output_type": "display_data"
    }
   ],
   "source": [
    "ev, v = fa.get_eigenvalues()\n",
    "plt.scatter(range(1,df.shape[1]+1),ev)\n",
    "plt.plot(range(1,df.shape[1]+1),ev)\n",
    "plt.title('Scree Plot')\n",
    "plt.xlabel('Factors')\n",
    "plt.ylabel('Eigenvalue')"
   ]
  },
  {
   "cell_type": "markdown",
   "metadata": {},
   "source": [
    "Berechne Index"
   ]
  },
  {
   "cell_type": "code",
   "execution_count": 20,
   "metadata": {},
   "outputs": [],
   "source": [
    "ess['relig_index'] = ess['rlgdgr_neu'] + ess['rlgatnd_neu'] + ess['pray_neu']"
   ]
  },
  {
   "cell_type": "code",
   "execution_count": 21,
   "metadata": {},
   "outputs": [
    {
     "data": {
      "text/html": [
       "<div>\n",
       "<style scoped>\n",
       "    .dataframe tbody tr th:only-of-type {\n",
       "        vertical-align: middle;\n",
       "    }\n",
       "\n",
       "    .dataframe tbody tr th {\n",
       "        vertical-align: top;\n",
       "    }\n",
       "\n",
       "    .dataframe thead th {\n",
       "        text-align: right;\n",
       "    }\n",
       "</style>\n",
       "<table border=\"1\" class=\"dataframe\">\n",
       "  <thead>\n",
       "    <tr style=\"text-align: right;\">\n",
       "      <th></th>\n",
       "      <th>rlgdgr_neu</th>\n",
       "      <th>rlgatnd_neu</th>\n",
       "      <th>pray_neu</th>\n",
       "      <th>relig_index</th>\n",
       "    </tr>\n",
       "  </thead>\n",
       "  <tbody>\n",
       "    <tr>\n",
       "      <th>0</th>\n",
       "      <td>0.9</td>\n",
       "      <td>0.008</td>\n",
       "      <td>0.033</td>\n",
       "      <td>0.941</td>\n",
       "    </tr>\n",
       "    <tr>\n",
       "      <th>1</th>\n",
       "      <td>0.6</td>\n",
       "      <td>0.000</td>\n",
       "      <td>1.000</td>\n",
       "      <td>1.600</td>\n",
       "    </tr>\n",
       "    <tr>\n",
       "      <th>2</th>\n",
       "      <td>0.0</td>\n",
       "      <td>0.000</td>\n",
       "      <td>0.000</td>\n",
       "      <td>0.000</td>\n",
       "    </tr>\n",
       "    <tr>\n",
       "      <th>3</th>\n",
       "      <td>0.5</td>\n",
       "      <td>0.008</td>\n",
       "      <td>0.002</td>\n",
       "      <td>0.510</td>\n",
       "    </tr>\n",
       "    <tr>\n",
       "      <th>4</th>\n",
       "      <td>0.0</td>\n",
       "      <td>0.000</td>\n",
       "      <td>0.000</td>\n",
       "      <td>0.000</td>\n",
       "    </tr>\n",
       "    <tr>\n",
       "      <th>...</th>\n",
       "      <td>...</td>\n",
       "      <td>...</td>\n",
       "      <td>...</td>\n",
       "      <td>...</td>\n",
       "    </tr>\n",
       "    <tr>\n",
       "      <th>2953</th>\n",
       "      <td>0.3</td>\n",
       "      <td>0.000</td>\n",
       "      <td>0.000</td>\n",
       "      <td>0.300</td>\n",
       "    </tr>\n",
       "    <tr>\n",
       "      <th>2954</th>\n",
       "      <td>0.8</td>\n",
       "      <td>0.000</td>\n",
       "      <td>0.000</td>\n",
       "      <td>0.800</td>\n",
       "    </tr>\n",
       "    <tr>\n",
       "      <th>2955</th>\n",
       "      <td>0.7</td>\n",
       "      <td>0.008</td>\n",
       "      <td>0.002</td>\n",
       "      <td>0.710</td>\n",
       "    </tr>\n",
       "    <tr>\n",
       "      <th>2956</th>\n",
       "      <td>0.5</td>\n",
       "      <td>0.002</td>\n",
       "      <td>1.000</td>\n",
       "      <td>1.502</td>\n",
       "    </tr>\n",
       "    <tr>\n",
       "      <th>2957</th>\n",
       "      <td>0.2</td>\n",
       "      <td>0.002</td>\n",
       "      <td>0.002</td>\n",
       "      <td>0.204</td>\n",
       "    </tr>\n",
       "  </tbody>\n",
       "</table>\n",
       "<p>2958 rows × 4 columns</p>\n",
       "</div>"
      ],
      "text/plain": [
       "      rlgdgr_neu  rlgatnd_neu  pray_neu  relig_index\n",
       "0            0.9        0.008     0.033        0.941\n",
       "1            0.6        0.000     1.000        1.600\n",
       "2            0.0        0.000     0.000        0.000\n",
       "3            0.5        0.008     0.002        0.510\n",
       "4            0.0        0.000     0.000        0.000\n",
       "...          ...          ...       ...          ...\n",
       "2953         0.3        0.000     0.000        0.300\n",
       "2954         0.8        0.000     0.000        0.800\n",
       "2955         0.7        0.008     0.002        0.710\n",
       "2956         0.5        0.002     1.000        1.502\n",
       "2957         0.2        0.002     0.002        0.204\n",
       "\n",
       "[2958 rows x 4 columns]"
      ]
     },
     "execution_count": 21,
     "metadata": {},
     "output_type": "execute_result"
    }
   ],
   "source": [
    "ess[['rlgdgr_neu','rlgatnd_neu','pray_neu','relig_index']]"
   ]
  },
  {
   "cell_type": "markdown",
   "metadata": {},
   "source": [
    "### Lage und Streuungsmaße"
   ]
  },
  {
   "cell_type": "code",
   "execution_count": 22,
   "metadata": {},
   "outputs": [
    {
     "data": {
      "text/plain": [
       "count    2922.000000\n",
       "mean        0.619773\n",
       "std         0.617708\n",
       "min         0.000000\n",
       "25%         0.100000\n",
       "50%         0.502000\n",
       "75%         0.850000\n",
       "max         3.000000\n",
       "Name: relig_index, dtype: float64"
      ]
     },
     "execution_count": 22,
     "metadata": {},
     "output_type": "execute_result"
    }
   ],
   "source": [
    "ess['relig_index'].describe()"
   ]
  },
  {
   "cell_type": "markdown",
   "metadata": {},
   "source": [
    "Nach Konfession (1= kath; 2 = Prot)"
   ]
  },
  {
   "cell_type": "code",
   "execution_count": 23,
   "metadata": {},
   "outputs": [
    {
     "data": {
      "text/html": [
       "<div>\n",
       "<style scoped>\n",
       "    .dataframe tbody tr th:only-of-type {\n",
       "        vertical-align: middle;\n",
       "    }\n",
       "\n",
       "    .dataframe tbody tr th {\n",
       "        vertical-align: top;\n",
       "    }\n",
       "\n",
       "    .dataframe thead th {\n",
       "        text-align: right;\n",
       "    }\n",
       "</style>\n",
       "<table border=\"1\" class=\"dataframe\">\n",
       "  <thead>\n",
       "    <tr style=\"text-align: right;\">\n",
       "      <th></th>\n",
       "      <th>Insgesamt</th>\n",
       "      <th>Katholiken</th>\n",
       "      <th>Protestanten</th>\n",
       "      <th>konfessionslos</th>\n",
       "      <th>Ostdeutschland</th>\n",
       "      <th>Westdeutschland</th>\n",
       "    </tr>\n",
       "  </thead>\n",
       "  <tbody>\n",
       "    <tr>\n",
       "      <th>count</th>\n",
       "      <td>2922.000000</td>\n",
       "      <td>663.000000</td>\n",
       "      <td>794.000000</td>\n",
       "      <td>1282.000000</td>\n",
       "      <td>1007.000000</td>\n",
       "      <td>1915.000000</td>\n",
       "    </tr>\n",
       "    <tr>\n",
       "      <th>mean</th>\n",
       "      <td>0.619773</td>\n",
       "      <td>0.986014</td>\n",
       "      <td>0.832034</td>\n",
       "      <td>0.235396</td>\n",
       "      <td>0.359504</td>\n",
       "      <td>0.756636</td>\n",
       "    </tr>\n",
       "    <tr>\n",
       "      <th>std</th>\n",
       "      <td>0.617708</td>\n",
       "      <td>0.611624</td>\n",
       "      <td>0.563115</td>\n",
       "      <td>0.374045</td>\n",
       "      <td>0.512779</td>\n",
       "      <td>0.624283</td>\n",
       "    </tr>\n",
       "    <tr>\n",
       "      <th>min</th>\n",
       "      <td>0.000000</td>\n",
       "      <td>0.000000</td>\n",
       "      <td>0.000000</td>\n",
       "      <td>0.000000</td>\n",
       "      <td>0.000000</td>\n",
       "      <td>0.000000</td>\n",
       "    </tr>\n",
       "    <tr>\n",
       "      <th>25%</th>\n",
       "      <td>0.100000</td>\n",
       "      <td>0.510000</td>\n",
       "      <td>0.500000</td>\n",
       "      <td>0.000000</td>\n",
       "      <td>0.000000</td>\n",
       "      <td>0.302000</td>\n",
       "    </tr>\n",
       "    <tr>\n",
       "      <th>50%</th>\n",
       "      <td>0.502000</td>\n",
       "      <td>0.776000</td>\n",
       "      <td>0.635000</td>\n",
       "      <td>0.100000</td>\n",
       "      <td>0.200000</td>\n",
       "      <td>0.604000</td>\n",
       "    </tr>\n",
       "    <tr>\n",
       "      <th>75%</th>\n",
       "      <td>0.850000</td>\n",
       "      <td>1.508000</td>\n",
       "      <td>1.007000</td>\n",
       "      <td>0.308000</td>\n",
       "      <td>0.508000</td>\n",
       "      <td>1.007000</td>\n",
       "    </tr>\n",
       "    <tr>\n",
       "      <th>max</th>\n",
       "      <td>3.000000</td>\n",
       "      <td>3.000000</td>\n",
       "      <td>2.274000</td>\n",
       "      <td>2.142000</td>\n",
       "      <td>3.000000</td>\n",
       "      <td>3.000000</td>\n",
       "    </tr>\n",
       "  </tbody>\n",
       "</table>\n",
       "</div>"
      ],
      "text/plain": [
       "         Insgesamt  Katholiken  Protestanten  konfessionslos  Ostdeutschland  \\\n",
       "count  2922.000000  663.000000    794.000000     1282.000000     1007.000000   \n",
       "mean      0.619773    0.986014      0.832034        0.235396        0.359504   \n",
       "std       0.617708    0.611624      0.563115        0.374045        0.512779   \n",
       "min       0.000000    0.000000      0.000000        0.000000        0.000000   \n",
       "25%       0.100000    0.510000      0.500000        0.000000        0.000000   \n",
       "50%       0.502000    0.776000      0.635000        0.100000        0.200000   \n",
       "75%       0.850000    1.508000      1.007000        0.308000        0.508000   \n",
       "max       3.000000    3.000000      2.274000        2.142000        3.000000   \n",
       "\n",
       "       Westdeutschland  \n",
       "count      1915.000000  \n",
       "mean          0.756636  \n",
       "std           0.624283  \n",
       "min           0.000000  \n",
       "25%           0.302000  \n",
       "50%           0.604000  \n",
       "75%           1.007000  \n",
       "max           3.000000  "
      ]
     },
     "execution_count": 23,
     "metadata": {},
     "output_type": "execute_result"
    }
   ],
   "source": [
    "df_list = []\n",
    "for var in filter_vars:\n",
    "    filters = filter_vars[var].keys()\n",
    "    descriptives = ess.groupby(var)['relig_index'].describe()\n",
    "    relevant_groups = descriptives.loc[filters,:]\n",
    "    rename = relevant_groups.rename(index=filter_vars[var])\n",
    "    df_list.append(rename)\n",
    "df_relig_index = pd.concat(df_list, axis=0).T\n",
    "df_relig_index"
   ]
  },
  {
   "cell_type": "markdown",
   "metadata": {},
   "source": [
    "Mittelwerte Schwarz Values"
   ]
  },
  {
   "cell_type": "code",
   "execution_count": 24,
   "metadata": {},
   "outputs": [
    {
     "data": {
      "text/html": [
       "<div>\n",
       "<style scoped>\n",
       "    .dataframe tbody tr th:only-of-type {\n",
       "        vertical-align: middle;\n",
       "    }\n",
       "\n",
       "    .dataframe tbody tr th {\n",
       "        vertical-align: top;\n",
       "    }\n",
       "\n",
       "    .dataframe thead th {\n",
       "        text-align: right;\n",
       "    }\n",
       "</style>\n",
       "<table border=\"1\" class=\"dataframe\">\n",
       "  <thead>\n",
       "    <tr style=\"text-align: right;\">\n",
       "      <th></th>\n",
       "      <th>Insgesamt</th>\n",
       "      <th>Katholiken</th>\n",
       "      <th>Protestanten</th>\n",
       "      <th>konfessionslos</th>\n",
       "      <th>Ostdeutschland</th>\n",
       "      <th>Westdeutschland</th>\n",
       "    </tr>\n",
       "  </thead>\n",
       "  <tbody>\n",
       "    <tr>\n",
       "      <th>selfdirection</th>\n",
       "      <td>2.152905</td>\n",
       "      <td>2.240573</td>\n",
       "      <td>2.164392</td>\n",
       "      <td>2.104425</td>\n",
       "      <td>2.196322</td>\n",
       "      <td>2.130356</td>\n",
       "    </tr>\n",
       "    <tr>\n",
       "      <th>stimulation</th>\n",
       "      <td>3.529552</td>\n",
       "      <td>3.571644</td>\n",
       "      <td>3.719331</td>\n",
       "      <td>3.423913</td>\n",
       "      <td>3.631213</td>\n",
       "      <td>3.476780</td>\n",
       "    </tr>\n",
       "    <tr>\n",
       "      <th>hedonism</th>\n",
       "      <td>2.727427</td>\n",
       "      <td>2.745865</td>\n",
       "      <td>2.859356</td>\n",
       "      <td>2.630823</td>\n",
       "      <td>2.705765</td>\n",
       "      <td>2.738660</td>\n",
       "    </tr>\n",
       "    <tr>\n",
       "      <th>achievement</th>\n",
       "      <td>3.064029</td>\n",
       "      <td>3.056561</td>\n",
       "      <td>3.206320</td>\n",
       "      <td>3.006599</td>\n",
       "      <td>3.080020</td>\n",
       "      <td>3.055728</td>\n",
       "    </tr>\n",
       "    <tr>\n",
       "      <th>power</th>\n",
       "      <td>3.827334</td>\n",
       "      <td>3.780120</td>\n",
       "      <td>3.910161</td>\n",
       "      <td>3.811335</td>\n",
       "      <td>3.853380</td>\n",
       "      <td>3.813822</td>\n",
       "    </tr>\n",
       "    <tr>\n",
       "      <th>security</th>\n",
       "      <td>2.300781</td>\n",
       "      <td>2.267669</td>\n",
       "      <td>2.301489</td>\n",
       "      <td>2.321817</td>\n",
       "      <td>2.131710</td>\n",
       "      <td>2.388545</td>\n",
       "    </tr>\n",
       "    <tr>\n",
       "      <th>conformity</th>\n",
       "      <td>3.164118</td>\n",
       "      <td>3.105422</td>\n",
       "      <td>3.108561</td>\n",
       "      <td>3.258540</td>\n",
       "      <td>3.000994</td>\n",
       "      <td>3.248838</td>\n",
       "    </tr>\n",
       "    <tr>\n",
       "      <th>tradition</th>\n",
       "      <td>2.687882</td>\n",
       "      <td>2.505263</td>\n",
       "      <td>2.475217</td>\n",
       "      <td>2.935559</td>\n",
       "      <td>2.552187</td>\n",
       "      <td>2.758247</td>\n",
       "    </tr>\n",
       "    <tr>\n",
       "      <th>benevolence</th>\n",
       "      <td>1.800442</td>\n",
       "      <td>1.785068</td>\n",
       "      <td>1.793680</td>\n",
       "      <td>1.824146</td>\n",
       "      <td>1.803678</td>\n",
       "      <td>1.798762</td>\n",
       "    </tr>\n",
       "    <tr>\n",
       "      <th>universalism</th>\n",
       "      <td>2.030493</td>\n",
       "      <td>2.036341</td>\n",
       "      <td>2.001859</td>\n",
       "      <td>2.067029</td>\n",
       "      <td>2.049370</td>\n",
       "      <td>2.020704</td>\n",
       "    </tr>\n",
       "  </tbody>\n",
       "</table>\n",
       "</div>"
      ],
      "text/plain": [
       "               Insgesamt  Katholiken  Protestanten  konfessionslos  \\\n",
       "selfdirection   2.152905    2.240573      2.164392        2.104425   \n",
       "stimulation     3.529552    3.571644      3.719331        3.423913   \n",
       "hedonism        2.727427    2.745865      2.859356        2.630823   \n",
       "achievement     3.064029    3.056561      3.206320        3.006599   \n",
       "power           3.827334    3.780120      3.910161        3.811335   \n",
       "security        2.300781    2.267669      2.301489        2.321817   \n",
       "conformity      3.164118    3.105422      3.108561        3.258540   \n",
       "tradition       2.687882    2.505263      2.475217        2.935559   \n",
       "benevolence     1.800442    1.785068      1.793680        1.824146   \n",
       "universalism    2.030493    2.036341      2.001859        2.067029   \n",
       "\n",
       "               Ostdeutschland  Westdeutschland  \n",
       "selfdirection        2.196322         2.130356  \n",
       "stimulation          3.631213         3.476780  \n",
       "hedonism             2.705765         2.738660  \n",
       "achievement          3.080020         3.055728  \n",
       "power                3.853380         3.813822  \n",
       "security             2.131710         2.388545  \n",
       "conformity           3.000994         3.248838  \n",
       "tradition            2.552187         2.758247  \n",
       "benevolence          1.803678         1.798762  \n",
       "universalism         2.049370         2.020704  "
      ]
     },
     "execution_count": 24,
     "metadata": {},
     "output_type": "execute_result"
    }
   ],
   "source": [
    "df_list = []\n",
    "for var in filter_vars:\n",
    "    filters = filter_vars[var].keys()\n",
    "    descriptives = ess.groupby(var)[list(schwarz_items.keys())].mean()\n",
    "    relevant_groups = descriptives.loc[filters,:]\n",
    "    rename = relevant_groups.rename(index=filter_vars[var])\n",
    "    df_list.append(rename)\n",
    "df_schwarz = pd.concat(df_list, axis=0).T\n",
    "df_schwarz"
   ]
  },
  {
   "cell_type": "code",
   "execution_count": 25,
   "metadata": {},
   "outputs": [
    {
     "data": {
      "application/vnd.plotly.v1+json": {
       "config": {
        "plotlyServerURL": "https://plot.ly"
       },
       "data": [
        {
         "hoverlabel": {
          "namelength": 0
         },
         "hovertemplate": "Gruppe=Insgesamt<br>Wert=%{x}<br>Mittelwert=%{y}",
         "legendgroup": "Gruppe=Insgesamt",
         "line": {
          "color": "#636efa",
          "dash": "solid"
         },
         "mode": "lines",
         "name": "Gruppe=Insgesamt",
         "showlegend": true,
         "type": "scatter",
         "x": [
          "selfdirection",
          "stimulation",
          "hedonism",
          "achievement",
          "power",
          "security",
          "conformity",
          "tradition",
          "benevolence",
          "universalism"
         ],
         "xaxis": "x",
         "y": [
          2.1529051987767582,
          3.5295516304347827,
          2.727427019687712,
          3.064028532608696,
          3.8273344651952463,
          2.30078125,
          3.164118246687054,
          2.6878818737270875,
          1.8004415760869565,
          2.030493324281514
         ],
         "yaxis": "y"
        },
        {
         "hoverlabel": {
          "namelength": 0
         },
         "hovertemplate": "Gruppe=Katholiken<br>Wert=%{x}<br>Mittelwert=%{y}",
         "legendgroup": "Gruppe=Katholiken",
         "line": {
          "color": "#EF553B",
          "dash": "solid"
         },
         "mode": "lines",
         "name": "Gruppe=Katholiken",
         "showlegend": true,
         "type": "scatter",
         "x": [
          "selfdirection",
          "stimulation",
          "hedonism",
          "achievement",
          "power",
          "security",
          "conformity",
          "tradition",
          "benevolence",
          "universalism"
         ],
         "xaxis": "x",
         "y": [
          2.2405731523378583,
          3.5716440422322777,
          2.745864661654135,
          3.0565610859728505,
          3.7801204819277108,
          2.267669172932331,
          3.105421686746988,
          2.5052631578947366,
          1.7850678733031675,
          2.036340852130324
         ],
         "yaxis": "y"
        },
        {
         "hoverlabel": {
          "namelength": 0
         },
         "hovertemplate": "Gruppe=Protestanten<br>Wert=%{x}<br>Mittelwert=%{y}",
         "legendgroup": "Gruppe=Protestanten",
         "line": {
          "color": "#00cc96",
          "dash": "solid"
         },
         "mode": "lines",
         "name": "Gruppe=Protestanten",
         "showlegend": true,
         "type": "scatter",
         "x": [
          "selfdirection",
          "stimulation",
          "hedonism",
          "achievement",
          "power",
          "security",
          "conformity",
          "tradition",
          "benevolence",
          "universalism"
         ],
         "xaxis": "x",
         "y": [
          2.1643920595533497,
          3.7193308550185873,
          2.859355638166047,
          3.2063197026022303,
          3.9101610904584883,
          2.301488833746898,
          3.108560794044665,
          2.4752168525402727,
          1.7936802973977695,
          2.001858736059481
         ],
         "yaxis": "y"
        },
        {
         "hoverlabel": {
          "namelength": 0
         },
         "hovertemplate": "Gruppe=konfessionslos<br>Wert=%{x}<br>Mittelwert=%{y}",
         "legendgroup": "Gruppe=konfessionslos",
         "line": {
          "color": "#ab63fa",
          "dash": "solid"
         },
         "mode": "lines",
         "name": "Gruppe=konfessionslos",
         "showlegend": true,
         "type": "scatter",
         "x": [
          "selfdirection",
          "stimulation",
          "hedonism",
          "achievement",
          "power",
          "security",
          "conformity",
          "tradition",
          "benevolence",
          "universalism"
         ],
         "xaxis": "x",
         "y": [
          2.1044254658385095,
          3.4239130434782608,
          2.6308229813664594,
          3.0065993788819876,
          3.811335403726708,
          2.3218167701863353,
          3.2585403726708075,
          2.93555900621118,
          1.8241459627329193,
          2.0670289855072457
         ],
         "yaxis": "y"
        },
        {
         "hoverlabel": {
          "namelength": 0
         },
         "hovertemplate": "Gruppe=Ostdeutschland<br>Wert=%{x}<br>Mittelwert=%{y}",
         "legendgroup": "Gruppe=Ostdeutschland",
         "line": {
          "color": "#FFA15A",
          "dash": "solid"
         },
         "mode": "lines",
         "name": "Gruppe=Ostdeutschland",
         "showlegend": true,
         "type": "scatter",
         "x": [
          "selfdirection",
          "stimulation",
          "hedonism",
          "achievement",
          "power",
          "security",
          "conformity",
          "tradition",
          "benevolence",
          "universalism"
         ],
         "xaxis": "x",
         "y": [
          2.1963220675944335,
          3.631212723658052,
          2.7057654075546718,
          3.0800198807157058,
          3.85337972166998,
          2.131709741550696,
          3.0009940357852884,
          2.552186878727634,
          1.8036779324055665,
          2.0493704440026526
         ],
         "yaxis": "y"
        },
        {
         "hoverlabel": {
          "namelength": 0
         },
         "hovertemplate": "Gruppe=Westdeutschland<br>Wert=%{x}<br>Mittelwert=%{y}",
         "legendgroup": "Gruppe=Westdeutschland",
         "line": {
          "color": "#19d3f3",
          "dash": "solid"
         },
         "mode": "lines",
         "name": "Gruppe=Westdeutschland",
         "showlegend": true,
         "type": "scatter",
         "x": [
          "selfdirection",
          "stimulation",
          "hedonism",
          "achievement",
          "power",
          "security",
          "conformity",
          "tradition",
          "benevolence",
          "universalism"
         ],
         "xaxis": "x",
         "y": [
          2.130356220960248,
          3.476780185758514,
          2.738659793814433,
          3.0557275541795668,
          3.813821557503868,
          2.388544891640867,
          3.2488384099122354,
          2.7582474226804123,
          1.7987616099071206,
          2.0207044673539514
         ],
         "yaxis": "y"
        }
       ],
       "layout": {
        "autosize": true,
        "legend": {
         "tracegroupgap": 0
        },
        "margin": {
         "t": 60
        },
        "template": {
         "data": {
          "bar": [
           {
            "error_x": {
             "color": "#2a3f5f"
            },
            "error_y": {
             "color": "#2a3f5f"
            },
            "marker": {
             "line": {
              "color": "#E5ECF6",
              "width": 0.5
             }
            },
            "type": "bar"
           }
          ],
          "barpolar": [
           {
            "marker": {
             "line": {
              "color": "#E5ECF6",
              "width": 0.5
             }
            },
            "type": "barpolar"
           }
          ],
          "carpet": [
           {
            "aaxis": {
             "endlinecolor": "#2a3f5f",
             "gridcolor": "white",
             "linecolor": "white",
             "minorgridcolor": "white",
             "startlinecolor": "#2a3f5f"
            },
            "baxis": {
             "endlinecolor": "#2a3f5f",
             "gridcolor": "white",
             "linecolor": "white",
             "minorgridcolor": "white",
             "startlinecolor": "#2a3f5f"
            },
            "type": "carpet"
           }
          ],
          "choropleth": [
           {
            "colorbar": {
             "outlinewidth": 0,
             "ticks": ""
            },
            "type": "choropleth"
           }
          ],
          "contour": [
           {
            "colorbar": {
             "outlinewidth": 0,
             "ticks": ""
            },
            "colorscale": [
             [
              0,
              "#0d0887"
             ],
             [
              0.1111111111111111,
              "#46039f"
             ],
             [
              0.2222222222222222,
              "#7201a8"
             ],
             [
              0.3333333333333333,
              "#9c179e"
             ],
             [
              0.4444444444444444,
              "#bd3786"
             ],
             [
              0.5555555555555556,
              "#d8576b"
             ],
             [
              0.6666666666666666,
              "#ed7953"
             ],
             [
              0.7777777777777778,
              "#fb9f3a"
             ],
             [
              0.8888888888888888,
              "#fdca26"
             ],
             [
              1,
              "#f0f921"
             ]
            ],
            "type": "contour"
           }
          ],
          "contourcarpet": [
           {
            "colorbar": {
             "outlinewidth": 0,
             "ticks": ""
            },
            "type": "contourcarpet"
           }
          ],
          "heatmap": [
           {
            "colorbar": {
             "outlinewidth": 0,
             "ticks": ""
            },
            "colorscale": [
             [
              0,
              "#0d0887"
             ],
             [
              0.1111111111111111,
              "#46039f"
             ],
             [
              0.2222222222222222,
              "#7201a8"
             ],
             [
              0.3333333333333333,
              "#9c179e"
             ],
             [
              0.4444444444444444,
              "#bd3786"
             ],
             [
              0.5555555555555556,
              "#d8576b"
             ],
             [
              0.6666666666666666,
              "#ed7953"
             ],
             [
              0.7777777777777778,
              "#fb9f3a"
             ],
             [
              0.8888888888888888,
              "#fdca26"
             ],
             [
              1,
              "#f0f921"
             ]
            ],
            "type": "heatmap"
           }
          ],
          "heatmapgl": [
           {
            "colorbar": {
             "outlinewidth": 0,
             "ticks": ""
            },
            "colorscale": [
             [
              0,
              "#0d0887"
             ],
             [
              0.1111111111111111,
              "#46039f"
             ],
             [
              0.2222222222222222,
              "#7201a8"
             ],
             [
              0.3333333333333333,
              "#9c179e"
             ],
             [
              0.4444444444444444,
              "#bd3786"
             ],
             [
              0.5555555555555556,
              "#d8576b"
             ],
             [
              0.6666666666666666,
              "#ed7953"
             ],
             [
              0.7777777777777778,
              "#fb9f3a"
             ],
             [
              0.8888888888888888,
              "#fdca26"
             ],
             [
              1,
              "#f0f921"
             ]
            ],
            "type": "heatmapgl"
           }
          ],
          "histogram": [
           {
            "marker": {
             "colorbar": {
              "outlinewidth": 0,
              "ticks": ""
             }
            },
            "type": "histogram"
           }
          ],
          "histogram2d": [
           {
            "colorbar": {
             "outlinewidth": 0,
             "ticks": ""
            },
            "colorscale": [
             [
              0,
              "#0d0887"
             ],
             [
              0.1111111111111111,
              "#46039f"
             ],
             [
              0.2222222222222222,
              "#7201a8"
             ],
             [
              0.3333333333333333,
              "#9c179e"
             ],
             [
              0.4444444444444444,
              "#bd3786"
             ],
             [
              0.5555555555555556,
              "#d8576b"
             ],
             [
              0.6666666666666666,
              "#ed7953"
             ],
             [
              0.7777777777777778,
              "#fb9f3a"
             ],
             [
              0.8888888888888888,
              "#fdca26"
             ],
             [
              1,
              "#f0f921"
             ]
            ],
            "type": "histogram2d"
           }
          ],
          "histogram2dcontour": [
           {
            "colorbar": {
             "outlinewidth": 0,
             "ticks": ""
            },
            "colorscale": [
             [
              0,
              "#0d0887"
             ],
             [
              0.1111111111111111,
              "#46039f"
             ],
             [
              0.2222222222222222,
              "#7201a8"
             ],
             [
              0.3333333333333333,
              "#9c179e"
             ],
             [
              0.4444444444444444,
              "#bd3786"
             ],
             [
              0.5555555555555556,
              "#d8576b"
             ],
             [
              0.6666666666666666,
              "#ed7953"
             ],
             [
              0.7777777777777778,
              "#fb9f3a"
             ],
             [
              0.8888888888888888,
              "#fdca26"
             ],
             [
              1,
              "#f0f921"
             ]
            ],
            "type": "histogram2dcontour"
           }
          ],
          "mesh3d": [
           {
            "colorbar": {
             "outlinewidth": 0,
             "ticks": ""
            },
            "type": "mesh3d"
           }
          ],
          "parcoords": [
           {
            "line": {
             "colorbar": {
              "outlinewidth": 0,
              "ticks": ""
             }
            },
            "type": "parcoords"
           }
          ],
          "pie": [
           {
            "automargin": true,
            "type": "pie"
           }
          ],
          "scatter": [
           {
            "marker": {
             "colorbar": {
              "outlinewidth": 0,
              "ticks": ""
             }
            },
            "type": "scatter"
           }
          ],
          "scatter3d": [
           {
            "line": {
             "colorbar": {
              "outlinewidth": 0,
              "ticks": ""
             }
            },
            "marker": {
             "colorbar": {
              "outlinewidth": 0,
              "ticks": ""
             }
            },
            "type": "scatter3d"
           }
          ],
          "scattercarpet": [
           {
            "marker": {
             "colorbar": {
              "outlinewidth": 0,
              "ticks": ""
             }
            },
            "type": "scattercarpet"
           }
          ],
          "scattergeo": [
           {
            "marker": {
             "colorbar": {
              "outlinewidth": 0,
              "ticks": ""
             }
            },
            "type": "scattergeo"
           }
          ],
          "scattergl": [
           {
            "marker": {
             "colorbar": {
              "outlinewidth": 0,
              "ticks": ""
             }
            },
            "type": "scattergl"
           }
          ],
          "scattermapbox": [
           {
            "marker": {
             "colorbar": {
              "outlinewidth": 0,
              "ticks": ""
             }
            },
            "type": "scattermapbox"
           }
          ],
          "scatterpolar": [
           {
            "marker": {
             "colorbar": {
              "outlinewidth": 0,
              "ticks": ""
             }
            },
            "type": "scatterpolar"
           }
          ],
          "scatterpolargl": [
           {
            "marker": {
             "colorbar": {
              "outlinewidth": 0,
              "ticks": ""
             }
            },
            "type": "scatterpolargl"
           }
          ],
          "scatterternary": [
           {
            "marker": {
             "colorbar": {
              "outlinewidth": 0,
              "ticks": ""
             }
            },
            "type": "scatterternary"
           }
          ],
          "surface": [
           {
            "colorbar": {
             "outlinewidth": 0,
             "ticks": ""
            },
            "colorscale": [
             [
              0,
              "#0d0887"
             ],
             [
              0.1111111111111111,
              "#46039f"
             ],
             [
              0.2222222222222222,
              "#7201a8"
             ],
             [
              0.3333333333333333,
              "#9c179e"
             ],
             [
              0.4444444444444444,
              "#bd3786"
             ],
             [
              0.5555555555555556,
              "#d8576b"
             ],
             [
              0.6666666666666666,
              "#ed7953"
             ],
             [
              0.7777777777777778,
              "#fb9f3a"
             ],
             [
              0.8888888888888888,
              "#fdca26"
             ],
             [
              1,
              "#f0f921"
             ]
            ],
            "type": "surface"
           }
          ],
          "table": [
           {
            "cells": {
             "fill": {
              "color": "#EBF0F8"
             },
             "line": {
              "color": "white"
             }
            },
            "header": {
             "fill": {
              "color": "#C8D4E3"
             },
             "line": {
              "color": "white"
             }
            },
            "type": "table"
           }
          ]
         },
         "layout": {
          "annotationdefaults": {
           "arrowcolor": "#2a3f5f",
           "arrowhead": 0,
           "arrowwidth": 1
          },
          "coloraxis": {
           "colorbar": {
            "outlinewidth": 0,
            "ticks": ""
           }
          },
          "colorscale": {
           "diverging": [
            [
             0,
             "#8e0152"
            ],
            [
             0.1,
             "#c51b7d"
            ],
            [
             0.2,
             "#de77ae"
            ],
            [
             0.3,
             "#f1b6da"
            ],
            [
             0.4,
             "#fde0ef"
            ],
            [
             0.5,
             "#f7f7f7"
            ],
            [
             0.6,
             "#e6f5d0"
            ],
            [
             0.7,
             "#b8e186"
            ],
            [
             0.8,
             "#7fbc41"
            ],
            [
             0.9,
             "#4d9221"
            ],
            [
             1,
             "#276419"
            ]
           ],
           "sequential": [
            [
             0,
             "#0d0887"
            ],
            [
             0.1111111111111111,
             "#46039f"
            ],
            [
             0.2222222222222222,
             "#7201a8"
            ],
            [
             0.3333333333333333,
             "#9c179e"
            ],
            [
             0.4444444444444444,
             "#bd3786"
            ],
            [
             0.5555555555555556,
             "#d8576b"
            ],
            [
             0.6666666666666666,
             "#ed7953"
            ],
            [
             0.7777777777777778,
             "#fb9f3a"
            ],
            [
             0.8888888888888888,
             "#fdca26"
            ],
            [
             1,
             "#f0f921"
            ]
           ],
           "sequentialminus": [
            [
             0,
             "#0d0887"
            ],
            [
             0.1111111111111111,
             "#46039f"
            ],
            [
             0.2222222222222222,
             "#7201a8"
            ],
            [
             0.3333333333333333,
             "#9c179e"
            ],
            [
             0.4444444444444444,
             "#bd3786"
            ],
            [
             0.5555555555555556,
             "#d8576b"
            ],
            [
             0.6666666666666666,
             "#ed7953"
            ],
            [
             0.7777777777777778,
             "#fb9f3a"
            ],
            [
             0.8888888888888888,
             "#fdca26"
            ],
            [
             1,
             "#f0f921"
            ]
           ]
          },
          "colorway": [
           "#636efa",
           "#EF553B",
           "#00cc96",
           "#ab63fa",
           "#FFA15A",
           "#19d3f3",
           "#FF6692",
           "#B6E880",
           "#FF97FF",
           "#FECB52"
          ],
          "font": {
           "color": "#2a3f5f"
          },
          "geo": {
           "bgcolor": "white",
           "lakecolor": "white",
           "landcolor": "#E5ECF6",
           "showlakes": true,
           "showland": true,
           "subunitcolor": "white"
          },
          "hoverlabel": {
           "align": "left"
          },
          "hovermode": "closest",
          "mapbox": {
           "style": "light"
          },
          "paper_bgcolor": "white",
          "plot_bgcolor": "#E5ECF6",
          "polar": {
           "angularaxis": {
            "gridcolor": "white",
            "linecolor": "white",
            "ticks": ""
           },
           "bgcolor": "#E5ECF6",
           "radialaxis": {
            "gridcolor": "white",
            "linecolor": "white",
            "ticks": ""
           }
          },
          "scene": {
           "xaxis": {
            "backgroundcolor": "#E5ECF6",
            "gridcolor": "white",
            "gridwidth": 2,
            "linecolor": "white",
            "showbackground": true,
            "ticks": "",
            "zerolinecolor": "white"
           },
           "yaxis": {
            "backgroundcolor": "#E5ECF6",
            "gridcolor": "white",
            "gridwidth": 2,
            "linecolor": "white",
            "showbackground": true,
            "ticks": "",
            "zerolinecolor": "white"
           },
           "zaxis": {
            "backgroundcolor": "#E5ECF6",
            "gridcolor": "white",
            "gridwidth": 2,
            "linecolor": "white",
            "showbackground": true,
            "ticks": "",
            "zerolinecolor": "white"
           }
          },
          "shapedefaults": {
           "line": {
            "color": "#2a3f5f"
           }
          },
          "ternary": {
           "aaxis": {
            "gridcolor": "white",
            "linecolor": "white",
            "ticks": ""
           },
           "baxis": {
            "gridcolor": "white",
            "linecolor": "white",
            "ticks": ""
           },
           "bgcolor": "#E5ECF6",
           "caxis": {
            "gridcolor": "white",
            "linecolor": "white",
            "ticks": ""
           }
          },
          "title": {
           "x": 0.05
          },
          "xaxis": {
           "automargin": true,
           "gridcolor": "white",
           "linecolor": "white",
           "ticks": "",
           "title": {
            "standoff": 15
           },
           "zerolinecolor": "white",
           "zerolinewidth": 2
          },
          "yaxis": {
           "automargin": true,
           "gridcolor": "white",
           "linecolor": "white",
           "ticks": "",
           "title": {
            "standoff": 15
           },
           "zerolinecolor": "white",
           "zerolinewidth": 2
          }
         }
        },
        "xaxis": {
         "anchor": "y",
         "autorange": true,
         "domain": [
          0,
          1
         ],
         "range": [
          0,
          9
         ],
         "title": {
          "text": "Wert"
         },
         "type": "category"
        },
        "yaxis": {
         "anchor": "x",
         "autorange": true,
         "domain": [
          0,
          1
         ],
         "range": [
          1.667007139016761,
          4.028221824744895
         ],
         "title": {
          "text": "Mittelwert"
         },
         "type": "linear"
        }
       }
      },
      "image/png": "[encoded data removed]",
      "text/html": [
       "<div>\n",
       "        \n",
       "        \n",
       "            <div id=\"18203692-b6f2-4ff6-855a-7012c586c2c5\" class=\"plotly-graph-div\" style=\"height:525px; width:100%;\"></div>\n",
       "            <script type=\"text/javascript\">\n",
       "                require([\"plotly\"], function(Plotly) {\n",
       "                    window.PLOTLYENV=window.PLOTLYENV || {};\n",
       "                    \n",
       "                if (document.getElementById(\"18203692-b6f2-4ff6-855a-7012c586c2c5\")) {\n",
       "                    Plotly.newPlot(\n",
       "                        '18203692-b6f2-4ff6-855a-7012c586c2c5',\n",
       "                        [{\"hoverlabel\": {\"namelength\": 0}, \"hovertemplate\": \"Gruppe=Insgesamt<br>Wert=%{x}<br>Mittelwert=%{y}\", \"legendgroup\": \"Gruppe=Insgesamt\", \"line\": {\"color\": \"#636efa\", \"dash\": \"solid\"}, \"mode\": \"lines\", \"name\": \"Gruppe=Insgesamt\", \"showlegend\": true, \"type\": \"scatter\", \"x\": [\"selfdirection\", \"stimulation\", \"hedonism\", \"achievement\", \"power\", \"security\", \"conformity\", \"tradition\", \"benevolence\", \"universalism\"], \"xaxis\": \"x\", \"y\": [2.1529051987767582, 3.5295516304347827, 2.727427019687712, 3.064028532608696, 3.8273344651952463, 2.30078125, 3.164118246687054, 2.6878818737270875, 1.8004415760869565, 2.030493324281514], \"yaxis\": \"y\"}, {\"hoverlabel\": {\"namelength\": 0}, \"hovertemplate\": \"Gruppe=Katholiken<br>Wert=%{x}<br>Mittelwert=%{y}\", \"legendgroup\": \"Gruppe=Katholiken\", \"line\": {\"color\": \"#EF553B\", \"dash\": \"solid\"}, \"mode\": \"lines\", \"name\": \"Gruppe=Katholiken\", \"showlegend\": true, \"type\": \"scatter\", \"x\": [\"selfdirection\", \"stimulation\", \"hedonism\", \"achievement\", \"power\", \"security\", \"conformity\", \"tradition\", \"benevolence\", \"universalism\"], \"xaxis\": \"x\", \"y\": [2.2405731523378583, 3.5716440422322777, 2.745864661654135, 3.0565610859728505, 3.7801204819277108, 2.267669172932331, 3.105421686746988, 2.5052631578947366, 1.7850678733031675, 2.036340852130324], \"yaxis\": \"y\"}, {\"hoverlabel\": {\"namelength\": 0}, \"hovertemplate\": \"Gruppe=Protestanten<br>Wert=%{x}<br>Mittelwert=%{y}\", \"legendgroup\": \"Gruppe=Protestanten\", \"line\": {\"color\": \"#00cc96\", \"dash\": \"solid\"}, \"mode\": \"lines\", \"name\": \"Gruppe=Protestanten\", \"showlegend\": true, \"type\": \"scatter\", \"x\": [\"selfdirection\", \"stimulation\", \"hedonism\", \"achievement\", \"power\", \"security\", \"conformity\", \"tradition\", \"benevolence\", \"universalism\"], \"xaxis\": \"x\", \"y\": [2.1643920595533497, 3.7193308550185873, 2.859355638166047, 3.2063197026022303, 3.9101610904584883, 2.301488833746898, 3.108560794044665, 2.4752168525402727, 1.7936802973977695, 2.001858736059481], \"yaxis\": \"y\"}, {\"hoverlabel\": {\"namelength\": 0}, \"hovertemplate\": \"Gruppe=konfessionslos<br>Wert=%{x}<br>Mittelwert=%{y}\", \"legendgroup\": \"Gruppe=konfessionslos\", \"line\": {\"color\": \"#ab63fa\", \"dash\": \"solid\"}, \"mode\": \"lines\", \"name\": \"Gruppe=konfessionslos\", \"showlegend\": true, \"type\": \"scatter\", \"x\": [\"selfdirection\", \"stimulation\", \"hedonism\", \"achievement\", \"power\", \"security\", \"conformity\", \"tradition\", \"benevolence\", \"universalism\"], \"xaxis\": \"x\", \"y\": [2.1044254658385095, 3.4239130434782608, 2.6308229813664594, 3.0065993788819876, 3.811335403726708, 2.3218167701863353, 3.2585403726708075, 2.93555900621118, 1.8241459627329193, 2.0670289855072457], \"yaxis\": \"y\"}, {\"hoverlabel\": {\"namelength\": 0}, \"hovertemplate\": \"Gruppe=Ostdeutschland<br>Wert=%{x}<br>Mittelwert=%{y}\", \"legendgroup\": \"Gruppe=Ostdeutschland\", \"line\": {\"color\": \"#FFA15A\", \"dash\": \"solid\"}, \"mode\": \"lines\", \"name\": \"Gruppe=Ostdeutschland\", \"showlegend\": true, \"type\": \"scatter\", \"x\": [\"selfdirection\", \"stimulation\", \"hedonism\", \"achievement\", \"power\", \"security\", \"conformity\", \"tradition\", \"benevolence\", \"universalism\"], \"xaxis\": \"x\", \"y\": [2.1963220675944335, 3.631212723658052, 2.7057654075546718, 3.0800198807157058, 3.85337972166998, 2.131709741550696, 3.0009940357852884, 2.552186878727634, 1.8036779324055665, 2.0493704440026526], \"yaxis\": \"y\"}, {\"hoverlabel\": {\"namelength\": 0}, \"hovertemplate\": \"Gruppe=Westdeutschland<br>Wert=%{x}<br>Mittelwert=%{y}\", \"legendgroup\": \"Gruppe=Westdeutschland\", \"line\": {\"color\": \"#19d3f3\", \"dash\": \"solid\"}, \"mode\": \"lines\", \"name\": \"Gruppe=Westdeutschland\", \"showlegend\": true, \"type\": \"scatter\", \"x\": [\"selfdirection\", \"stimulation\", \"hedonism\", \"achievement\", \"power\", \"security\", \"conformity\", \"tradition\", \"benevolence\", \"universalism\"], \"xaxis\": \"x\", \"y\": [2.130356220960248, 3.476780185758514, 2.738659793814433, 3.0557275541795668, 3.813821557503868, 2.388544891640867, 3.2488384099122354, 2.7582474226804123, 1.7987616099071206, 2.0207044673539514], \"yaxis\": \"y\"}],\n",
       "                        {\"legend\": {\"tracegroupgap\": 0}, \"margin\": {\"t\": 60}, \"template\": {\"data\": {\"bar\": [{\"error_x\": {\"color\": \"#2a3f5f\"}, \"error_y\": {\"color\": \"#2a3f5f\"}, \"marker\": {\"line\": {\"color\": \"#E5ECF6\", \"width\": 0.5}}, \"type\": \"bar\"}], \"barpolar\": [{\"marker\": {\"line\": {\"color\": \"#E5ECF6\", \"width\": 0.5}}, \"type\": \"barpolar\"}], \"carpet\": [{\"aaxis\": {\"endlinecolor\": \"#2a3f5f\", \"gridcolor\": \"white\", \"linecolor\": \"white\", \"minorgridcolor\": \"white\", \"startlinecolor\": \"#2a3f5f\"}, \"baxis\": {\"endlinecolor\": \"#2a3f5f\", \"gridcolor\": \"white\", \"linecolor\": \"white\", \"minorgridcolor\": \"white\", \"startlinecolor\": \"#2a3f5f\"}, \"type\": \"carpet\"}], \"choropleth\": [{\"colorbar\": {\"outlinewidth\": 0, \"ticks\": \"\"}, \"type\": \"choropleth\"}], \"contour\": [{\"colorbar\": {\"outlinewidth\": 0, \"ticks\": \"\"}, \"colorscale\": [[0.0, \"#0d0887\"], [0.1111111111111111, \"#46039f\"], [0.2222222222222222, \"#7201a8\"], [0.3333333333333333, \"#9c179e\"], [0.4444444444444444, \"#bd3786\"], [0.5555555555555556, \"#d8576b\"], [0.6666666666666666, \"#ed7953\"], [0.7777777777777778, \"#fb9f3a\"], [0.8888888888888888, \"#fdca26\"], [1.0, \"#f0f921\"]], \"type\": \"contour\"}], \"contourcarpet\": [{\"colorbar\": {\"outlinewidth\": 0, \"ticks\": \"\"}, \"type\": \"contourcarpet\"}], \"heatmap\": [{\"colorbar\": {\"outlinewidth\": 0, \"ticks\": \"\"}, \"colorscale\": [[0.0, \"#0d0887\"], [0.1111111111111111, \"#46039f\"], [0.2222222222222222, \"#7201a8\"], [0.3333333333333333, \"#9c179e\"], [0.4444444444444444, \"#bd3786\"], [0.5555555555555556, \"#d8576b\"], [0.6666666666666666, \"#ed7953\"], [0.7777777777777778, \"#fb9f3a\"], [0.8888888888888888, \"#fdca26\"], [1.0, \"#f0f921\"]], \"type\": \"heatmap\"}], \"heatmapgl\": [{\"colorbar\": {\"outlinewidth\": 0, \"ticks\": \"\"}, \"colorscale\": [[0.0, \"#0d0887\"], [0.1111111111111111, \"#46039f\"], [0.2222222222222222, \"#7201a8\"], [0.3333333333333333, \"#9c179e\"], [0.4444444444444444, \"#bd3786\"], [0.5555555555555556, \"#d8576b\"], [0.6666666666666666, \"#ed7953\"], [0.7777777777777778, \"#fb9f3a\"], [0.8888888888888888, \"#fdca26\"], [1.0, \"#f0f921\"]], \"type\": \"heatmapgl\"}], \"histogram\": [{\"marker\": {\"colorbar\": {\"outlinewidth\": 0, \"ticks\": \"\"}}, \"type\": \"histogram\"}], \"histogram2d\": [{\"colorbar\": {\"outlinewidth\": 0, \"ticks\": \"\"}, \"colorscale\": [[0.0, \"#0d0887\"], [0.1111111111111111, \"#46039f\"], [0.2222222222222222, \"#7201a8\"], [0.3333333333333333, \"#9c179e\"], [0.4444444444444444, \"#bd3786\"], [0.5555555555555556, \"#d8576b\"], [0.6666666666666666, \"#ed7953\"], [0.7777777777777778, \"#fb9f3a\"], [0.8888888888888888, \"#fdca26\"], [1.0, \"#f0f921\"]], \"type\": \"histogram2d\"}], \"histogram2dcontour\": [{\"colorbar\": {\"outlinewidth\": 0, \"ticks\": \"\"}, \"colorscale\": [[0.0, \"#0d0887\"], [0.1111111111111111, \"#46039f\"], [0.2222222222222222, \"#7201a8\"], [0.3333333333333333, \"#9c179e\"], [0.4444444444444444, \"#bd3786\"], [0.5555555555555556, \"#d8576b\"], [0.6666666666666666, \"#ed7953\"], [0.7777777777777778, \"#fb9f3a\"], [0.8888888888888888, \"#fdca26\"], [1.0, \"#f0f921\"]], \"type\": \"histogram2dcontour\"}], \"mesh3d\": [{\"colorbar\": {\"outlinewidth\": 0, \"ticks\": \"\"}, \"type\": \"mesh3d\"}], \"parcoords\": [{\"line\": {\"colorbar\": {\"outlinewidth\": 0, \"ticks\": \"\"}}, \"type\": \"parcoords\"}], \"pie\": [{\"automargin\": true, \"type\": \"pie\"}], \"scatter\": [{\"marker\": {\"colorbar\": {\"outlinewidth\": 0, \"ticks\": \"\"}}, \"type\": \"scatter\"}], \"scatter3d\": [{\"line\": {\"colorbar\": {\"outlinewidth\": 0, \"ticks\": \"\"}}, \"marker\": {\"colorbar\": {\"outlinewidth\": 0, \"ticks\": \"\"}}, \"type\": \"scatter3d\"}], \"scattercarpet\": [{\"marker\": {\"colorbar\": {\"outlinewidth\": 0, \"ticks\": \"\"}}, \"type\": \"scattercarpet\"}], \"scattergeo\": [{\"marker\": {\"colorbar\": {\"outlinewidth\": 0, \"ticks\": \"\"}}, \"type\": \"scattergeo\"}], \"scattergl\": [{\"marker\": {\"colorbar\": {\"outlinewidth\": 0, \"ticks\": \"\"}}, \"type\": \"scattergl\"}], \"scattermapbox\": [{\"marker\": {\"colorbar\": {\"outlinewidth\": 0, \"ticks\": \"\"}}, \"type\": \"scattermapbox\"}], \"scatterpolar\": [{\"marker\": {\"colorbar\": {\"outlinewidth\": 0, \"ticks\": \"\"}}, \"type\": \"scatterpolar\"}], \"scatterpolargl\": [{\"marker\": {\"colorbar\": {\"outlinewidth\": 0, \"ticks\": \"\"}}, \"type\": \"scatterpolargl\"}], \"scatterternary\": [{\"marker\": {\"colorbar\": {\"outlinewidth\": 0, \"ticks\": \"\"}}, \"type\": \"scatterternary\"}], \"surface\": [{\"colorbar\": {\"outlinewidth\": 0, \"ticks\": \"\"}, \"colorscale\": [[0.0, \"#0d0887\"], [0.1111111111111111, \"#46039f\"], [0.2222222222222222, \"#7201a8\"], [0.3333333333333333, \"#9c179e\"], [0.4444444444444444, \"#bd3786\"], [0.5555555555555556, \"#d8576b\"], [0.6666666666666666, \"#ed7953\"], [0.7777777777777778, \"#fb9f3a\"], [0.8888888888888888, \"#fdca26\"], [1.0, \"#f0f921\"]], \"type\": \"surface\"}], \"table\": [{\"cells\": {\"fill\": {\"color\": \"#EBF0F8\"}, \"line\": {\"color\": \"white\"}}, \"header\": {\"fill\": {\"color\": \"#C8D4E3\"}, \"line\": {\"color\": \"white\"}}, \"type\": \"table\"}]}, \"layout\": {\"annotationdefaults\": {\"arrowcolor\": \"#2a3f5f\", \"arrowhead\": 0, \"arrowwidth\": 1}, \"coloraxis\": {\"colorbar\": {\"outlinewidth\": 0, \"ticks\": \"\"}}, \"colorscale\": {\"diverging\": [[0, \"#8e0152\"], [0.1, \"#c51b7d\"], [0.2, \"#de77ae\"], [0.3, \"#f1b6da\"], [0.4, \"#fde0ef\"], [0.5, \"#f7f7f7\"], [0.6, \"#e6f5d0\"], [0.7, \"#b8e186\"], [0.8, \"#7fbc41\"], [0.9, \"#4d9221\"], [1, \"#276419\"]], \"sequential\": [[0.0, \"#0d0887\"], [0.1111111111111111, \"#46039f\"], [0.2222222222222222, \"#7201a8\"], [0.3333333333333333, \"#9c179e\"], [0.4444444444444444, \"#bd3786\"], [0.5555555555555556, \"#d8576b\"], [0.6666666666666666, \"#ed7953\"], [0.7777777777777778, \"#fb9f3a\"], [0.8888888888888888, \"#fdca26\"], [1.0, \"#f0f921\"]], \"sequentialminus\": [[0.0, \"#0d0887\"], [0.1111111111111111, \"#46039f\"], [0.2222222222222222, \"#7201a8\"], [0.3333333333333333, \"#9c179e\"], [0.4444444444444444, \"#bd3786\"], [0.5555555555555556, \"#d8576b\"], [0.6666666666666666, \"#ed7953\"], [0.7777777777777778, \"#fb9f3a\"], [0.8888888888888888, \"#fdca26\"], [1.0, \"#f0f921\"]]}, \"colorway\": [\"#636efa\", \"#EF553B\", \"#00cc96\", \"#ab63fa\", \"#FFA15A\", \"#19d3f3\", \"#FF6692\", \"#B6E880\", \"#FF97FF\", \"#FECB52\"], \"font\": {\"color\": \"#2a3f5f\"}, \"geo\": {\"bgcolor\": \"white\", \"lakecolor\": \"white\", \"landcolor\": \"#E5ECF6\", \"showlakes\": true, \"showland\": true, \"subunitcolor\": \"white\"}, \"hoverlabel\": {\"align\": \"left\"}, \"hovermode\": \"closest\", \"mapbox\": {\"style\": \"light\"}, \"paper_bgcolor\": \"white\", \"plot_bgcolor\": \"#E5ECF6\", \"polar\": {\"angularaxis\": {\"gridcolor\": \"white\", \"linecolor\": \"white\", \"ticks\": \"\"}, \"bgcolor\": \"#E5ECF6\", \"radialaxis\": {\"gridcolor\": \"white\", \"linecolor\": \"white\", \"ticks\": \"\"}}, \"scene\": {\"xaxis\": {\"backgroundcolor\": \"#E5ECF6\", \"gridcolor\": \"white\", \"gridwidth\": 2, \"linecolor\": \"white\", \"showbackground\": true, \"ticks\": \"\", \"zerolinecolor\": \"white\"}, \"yaxis\": {\"backgroundcolor\": \"#E5ECF6\", \"gridcolor\": \"white\", \"gridwidth\": 2, \"linecolor\": \"white\", \"showbackground\": true, \"ticks\": \"\", \"zerolinecolor\": \"white\"}, \"zaxis\": {\"backgroundcolor\": \"#E5ECF6\", \"gridcolor\": \"white\", \"gridwidth\": 2, \"linecolor\": \"white\", \"showbackground\": true, \"ticks\": \"\", \"zerolinecolor\": \"white\"}}, \"shapedefaults\": {\"line\": {\"color\": \"#2a3f5f\"}}, \"ternary\": {\"aaxis\": {\"gridcolor\": \"white\", \"linecolor\": \"white\", \"ticks\": \"\"}, \"baxis\": {\"gridcolor\": \"white\", \"linecolor\": \"white\", \"ticks\": \"\"}, \"bgcolor\": \"#E5ECF6\", \"caxis\": {\"gridcolor\": \"white\", \"linecolor\": \"white\", \"ticks\": \"\"}}, \"title\": {\"x\": 0.05}, \"xaxis\": {\"automargin\": true, \"gridcolor\": \"white\", \"linecolor\": \"white\", \"ticks\": \"\", \"title\": {\"standoff\": 15}, \"zerolinecolor\": \"white\", \"zerolinewidth\": 2}, \"yaxis\": {\"automargin\": true, \"gridcolor\": \"white\", \"linecolor\": \"white\", \"ticks\": \"\", \"title\": {\"standoff\": 15}, \"zerolinecolor\": \"white\", \"zerolinewidth\": 2}}}, \"xaxis\": {\"anchor\": \"y\", \"domain\": [0.0, 1.0], \"title\": {\"text\": \"Wert\"}}, \"yaxis\": {\"anchor\": \"x\", \"domain\": [0.0, 1.0], \"title\": {\"text\": \"Mittelwert\"}}},\n",
       "                        {\"responsive\": true}\n",
       "                    ).then(function(){\n",
       "                            \n",
       "var gd = document.getElementById('18203692-b6f2-4ff6-855a-7012c586c2c5');\n",
       "var x = new MutationObserver(function (mutations, observer) {{\n",
       "        var display = window.getComputedStyle(gd).display;\n",
       "        if (!display || display === 'none') {{\n",
       "            console.log([gd, 'removed!']);\n",
       "            Plotly.purge(gd);\n",
       "            observer.disconnect();\n",
       "        }}\n",
       "}});\n",
       "\n",
       "// Listen for the removal of the full notebook cells\n",
       "var notebookContainer = gd.closest('#notebook-container');\n",
       "if (notebookContainer) {{\n",
       "    x.observe(notebookContainer, {childList: true});\n",
       "}}\n",
       "\n",
       "// Listen for the clearing of the current output cell\n",
       "var outputEl = gd.closest('.output');\n",
       "if (outputEl) {{\n",
       "    x.observe(outputEl, {childList: true});\n",
       "}}\n",
       "\n",
       "                        })\n",
       "                };\n",
       "                });\n",
       "            </script>\n",
       "        </div>"
      ]
     },
     "metadata": {},
     "output_type": "display_data"
    }
   ],
   "source": [
    "df = df_schwarz.stack().reset_index().rename(columns={'level_0':'Wert','level_1':'Gruppe',0:'Mittelwert'})\n",
    "px.line(df,x='Wert',y='Mittelwert',line_group='Gruppe',color='Gruppe')"
   ]
  },
  {
   "cell_type": "markdown",
   "metadata": {},
   "source": [
    "## Korrelationen"
   ]
  },
  {
   "cell_type": "code",
   "execution_count": 26,
   "metadata": {},
   "outputs": [
    {
     "data": {
      "text/html": [
       "<div>\n",
       "<style scoped>\n",
       "    .dataframe tbody tr th:only-of-type {\n",
       "        vertical-align: middle;\n",
       "    }\n",
       "\n",
       "    .dataframe tbody tr th {\n",
       "        vertical-align: top;\n",
       "    }\n",
       "\n",
       "    .dataframe thead th {\n",
       "        text-align: right;\n",
       "    }\n",
       "</style>\n",
       "<table border=\"1\" class=\"dataframe\">\n",
       "  <thead>\n",
       "    <tr style=\"text-align: right;\">\n",
       "      <th></th>\n",
       "      <th>n</th>\n",
       "      <th>r</th>\n",
       "      <th>CI95%</th>\n",
       "      <th>r2</th>\n",
       "      <th>adj_r2</th>\n",
       "      <th>p-val</th>\n",
       "      <th>BF10</th>\n",
       "      <th>power</th>\n",
       "    </tr>\n",
       "  </thead>\n",
       "  <tbody>\n",
       "    <tr>\n",
       "      <th>pearson</th>\n",
       "      <td>2909</td>\n",
       "      <td>0.009</td>\n",
       "      <td>[-0.03, 0.05]</td>\n",
       "      <td>0.0</td>\n",
       "      <td>-0.001</td>\n",
       "      <td>0.611</td>\n",
       "      <td>0.026</td>\n",
       "      <td>0.08</td>\n",
       "    </tr>\n",
       "  </tbody>\n",
       "</table>\n",
       "</div>"
      ],
      "text/plain": [
       "            n      r          CI95%   r2  adj_r2  p-val   BF10  power\n",
       "pearson  2909  0.009  [-0.03, 0.05]  0.0  -0.001  0.611  0.026   0.08"
      ]
     },
     "execution_count": 26,
     "metadata": {},
     "output_type": "execute_result"
    }
   ],
   "source": [
    "pg.partial_corr(data=ess, x='selfdirection', y='relig_index').round(3)"
   ]
  },
  {
   "cell_type": "code",
   "execution_count": 27,
   "metadata": {},
   "outputs": [],
   "source": [
    "def part_corr_value(ess,schwarz_items):\n",
    "    df = pd.DataFrame()\n",
    "    for value in schwarz_items:\n",
    "        corr = pg.partial_corr(data=ess, \n",
    "                               x=value, \n",
    "                               y='relig_index',\n",
    "                               covar=['mittelwschwartz','agea','eisced','hinctnta','gndr','domicil'])\n",
    "        corr = corr.round(3).rename(index={'pearson':value})\n",
    "        df = df.append(corr)\n",
    "    return df"
   ]
  },
  {
   "cell_type": "code",
   "execution_count": 28,
   "metadata": {},
   "outputs": [],
   "source": [
    "df = part_corr_value(ess,schwarz_items)"
   ]
  },
  {
   "cell_type": "code",
   "execution_count": 29,
   "metadata": {},
   "outputs": [
    {
     "data": {
      "text/html": [
       "<div>\n",
       "<style scoped>\n",
       "    .dataframe tbody tr th:only-of-type {\n",
       "        vertical-align: middle;\n",
       "    }\n",
       "\n",
       "    .dataframe tbody tr th {\n",
       "        vertical-align: top;\n",
       "    }\n",
       "\n",
       "    .dataframe thead th {\n",
       "        text-align: right;\n",
       "    }\n",
       "</style>\n",
       "<table border=\"1\" class=\"dataframe\">\n",
       "  <thead>\n",
       "    <tr style=\"text-align: right;\">\n",
       "      <th></th>\n",
       "      <th>n</th>\n",
       "      <th>r</th>\n",
       "      <th>CI95%</th>\n",
       "      <th>r2</th>\n",
       "      <th>adj_r2</th>\n",
       "      <th>p-val</th>\n",
       "      <th>BF10</th>\n",
       "      <th>power</th>\n",
       "    </tr>\n",
       "  </thead>\n",
       "  <tbody>\n",
       "    <tr>\n",
       "      <th>selfdirection</th>\n",
       "      <td>2512</td>\n",
       "      <td>0.031</td>\n",
       "      <td>[-0.01, 0.07]</td>\n",
       "      <td>0.001</td>\n",
       "      <td>0.000</td>\n",
       "      <td>0.121</td>\n",
       "      <td>0.083</td>\n",
       "      <td>0.341</td>\n",
       "    </tr>\n",
       "    <tr>\n",
       "      <th>stimulation</th>\n",
       "      <td>2514</td>\n",
       "      <td>0.047</td>\n",
       "      <td>[0.01, 0.09]</td>\n",
       "      <td>0.002</td>\n",
       "      <td>0.001</td>\n",
       "      <td>0.018</td>\n",
       "      <td>0.405</td>\n",
       "      <td>0.656</td>\n",
       "    </tr>\n",
       "    <tr>\n",
       "      <th>hedonism</th>\n",
       "      <td>2514</td>\n",
       "      <td>0.140</td>\n",
       "      <td>[0.1, 0.18]</td>\n",
       "      <td>0.020</td>\n",
       "      <td>0.019</td>\n",
       "      <td>0.000</td>\n",
       "      <td>1.549e+09</td>\n",
       "      <td>1.000</td>\n",
       "    </tr>\n",
       "    <tr>\n",
       "      <th>achievement</th>\n",
       "      <td>2514</td>\n",
       "      <td>0.099</td>\n",
       "      <td>[0.06, 0.14]</td>\n",
       "      <td>0.010</td>\n",
       "      <td>0.009</td>\n",
       "      <td>0.000</td>\n",
       "      <td>5433.914</td>\n",
       "      <td>0.999</td>\n",
       "    </tr>\n",
       "    <tr>\n",
       "      <th>power</th>\n",
       "      <td>2513</td>\n",
       "      <td>0.052</td>\n",
       "      <td>[0.01, 0.09]</td>\n",
       "      <td>0.003</td>\n",
       "      <td>0.002</td>\n",
       "      <td>0.009</td>\n",
       "      <td>0.726</td>\n",
       "      <td>0.738</td>\n",
       "    </tr>\n",
       "    <tr>\n",
       "      <th>security</th>\n",
       "      <td>2514</td>\n",
       "      <td>0.034</td>\n",
       "      <td>[-0.01, 0.07]</td>\n",
       "      <td>0.001</td>\n",
       "      <td>0.000</td>\n",
       "      <td>0.089</td>\n",
       "      <td>0.106</td>\n",
       "      <td>0.399</td>\n",
       "    </tr>\n",
       "    <tr>\n",
       "      <th>conformity</th>\n",
       "      <td>2513</td>\n",
       "      <td>-0.062</td>\n",
       "      <td>[-0.1, -0.02]</td>\n",
       "      <td>0.004</td>\n",
       "      <td>0.003</td>\n",
       "      <td>0.002</td>\n",
       "      <td>2.957</td>\n",
       "      <td>0.871</td>\n",
       "    </tr>\n",
       "    <tr>\n",
       "      <th>tradition</th>\n",
       "      <td>2514</td>\n",
       "      <td>-0.213</td>\n",
       "      <td>[-0.25, -0.18]</td>\n",
       "      <td>0.046</td>\n",
       "      <td>0.045</td>\n",
       "      <td>0.000</td>\n",
       "      <td>6.25e+23</td>\n",
       "      <td>1.000</td>\n",
       "    </tr>\n",
       "    <tr>\n",
       "      <th>benevolence</th>\n",
       "      <td>2513</td>\n",
       "      <td>-0.058</td>\n",
       "      <td>[-0.1, -0.02]</td>\n",
       "      <td>0.003</td>\n",
       "      <td>0.003</td>\n",
       "      <td>0.003</td>\n",
       "      <td>1.813</td>\n",
       "      <td>0.834</td>\n",
       "    </tr>\n",
       "    <tr>\n",
       "      <th>universalism</th>\n",
       "      <td>2514</td>\n",
       "      <td>-0.101</td>\n",
       "      <td>[-0.14, -0.06]</td>\n",
       "      <td>0.010</td>\n",
       "      <td>0.009</td>\n",
       "      <td>0.000</td>\n",
       "      <td>9851.194</td>\n",
       "      <td>0.999</td>\n",
       "    </tr>\n",
       "  </tbody>\n",
       "</table>\n",
       "</div>"
      ],
      "text/plain": [
       "                  n      r           CI95%     r2  adj_r2  p-val       BF10  \\\n",
       "selfdirection  2512  0.031   [-0.01, 0.07]  0.001   0.000  0.121      0.083   \n",
       "stimulation    2514  0.047    [0.01, 0.09]  0.002   0.001  0.018      0.405   \n",
       "hedonism       2514  0.140     [0.1, 0.18]  0.020   0.019  0.000  1.549e+09   \n",
       "achievement    2514  0.099    [0.06, 0.14]  0.010   0.009  0.000   5433.914   \n",
       "power          2513  0.052    [0.01, 0.09]  0.003   0.002  0.009      0.726   \n",
       "security       2514  0.034   [-0.01, 0.07]  0.001   0.000  0.089      0.106   \n",
       "conformity     2513 -0.062   [-0.1, -0.02]  0.004   0.003  0.002      2.957   \n",
       "tradition      2514 -0.213  [-0.25, -0.18]  0.046   0.045  0.000   6.25e+23   \n",
       "benevolence    2513 -0.058   [-0.1, -0.02]  0.003   0.003  0.003      1.813   \n",
       "universalism   2514 -0.101  [-0.14, -0.06]  0.010   0.009  0.000   9851.194   \n",
       "\n",
       "               power  \n",
       "selfdirection  0.341  \n",
       "stimulation    0.656  \n",
       "hedonism       1.000  \n",
       "achievement    0.999  \n",
       "power          0.738  \n",
       "security       0.399  \n",
       "conformity     0.871  \n",
       "tradition      1.000  \n",
       "benevolence    0.834  \n",
       "universalism   0.999  "
      ]
     },
     "execution_count": 29,
     "metadata": {},
     "output_type": "execute_result"
    }
   ],
   "source": [
    "df"
   ]
  },
  {
   "cell_type": "code",
   "execution_count": 30,
   "metadata": {},
   "outputs": [],
   "source": [
    "def confidence_intervalls(df):\n",
    "    df[['error_y_minus','error_y']] = pd.DataFrame(df['CI95%'].tolist(),index=df.index)\n",
    "    #df['error_y_minus'] = df['r']+df['error_y_minus']\n",
    "    #df['error_y'] = df['r']+df['error_y']\n",
    "    # für Fehlerbalken. Plotly will Abweichung hier sind aber absolute Werte\n",
    "    df['error_y_minus'] = df['r']-df['error_y_minus']\n",
    "    df['error_y'] = df['error_y']-df['r']\n",
    "    return df"
   ]
  },
  {
   "cell_type": "code",
   "execution_count": 31,
   "metadata": {},
   "outputs": [],
   "source": [
    "df = confidence_intervalls(df)"
   ]
  },
  {
   "cell_type": "code",
   "execution_count": 32,
   "metadata": {},
   "outputs": [
    {
     "data": {
      "application/vnd.plotly.v1+json": {
       "config": {
        "plotlyServerURL": "https://plot.ly"
       },
       "data": [
        {
         "error_y": {
          "array": [
           0.03900000000000001,
           0.043,
           0.03999999999999998,
           0.04100000000000001,
           0.038,
           0.036000000000000004,
           0.041999999999999996,
           0.033,
           0.038000000000000006,
           0.04100000000000001
          ],
          "arrayminus": [
           0.041,
           0.037,
           0.04000000000000001,
           0.03900000000000001,
           0.041999999999999996,
           0.044000000000000004,
           0.038000000000000006,
           0.037000000000000005,
           0.042,
           0.03900000000000001
          ]
         },
         "hoverlabel": {
          "namelength": 0
         },
         "hovertemplate": "x=%{x}<br>r=%{y}",
         "legendgroup": "",
         "line": {
          "color": "#636efa",
          "dash": "solid"
         },
         "mode": "lines",
         "name": "",
         "showlegend": false,
         "type": "scatter",
         "x": [
          "selfdirection",
          "stimulation",
          "hedonism",
          "achievement",
          "power",
          "security",
          "conformity",
          "tradition",
          "benevolence",
          "universalism"
         ],
         "xaxis": "x",
         "y": [
          0.031,
          0.047,
          0.14,
          0.099,
          0.052,
          0.034,
          -0.062,
          -0.213,
          -0.058,
          -0.101
         ],
         "yaxis": "y"
        }
       ],
       "layout": {
        "autosize": true,
        "legend": {
         "tracegroupgap": 0
        },
        "template": {
         "data": {
          "bar": [
           {
            "error_x": {
             "color": "#2a3f5f"
            },
            "error_y": {
             "color": "#2a3f5f"
            },
            "marker": {
             "line": {
              "color": "#E5ECF6",
              "width": 0.5
             }
            },
            "type": "bar"
           }
          ],
          "barpolar": [
           {
            "marker": {
             "line": {
              "color": "#E5ECF6",
              "width": 0.5
             }
            },
            "type": "barpolar"
           }
          ],
          "carpet": [
           {
            "aaxis": {
             "endlinecolor": "#2a3f5f",
             "gridcolor": "white",
             "linecolor": "white",
             "minorgridcolor": "white",
             "startlinecolor": "#2a3f5f"
            },
            "baxis": {
             "endlinecolor": "#2a3f5f",
             "gridcolor": "white",
             "linecolor": "white",
             "minorgridcolor": "white",
             "startlinecolor": "#2a3f5f"
            },
            "type": "carpet"
           }
          ],
          "choropleth": [
           {
            "colorbar": {
             "outlinewidth": 0,
             "ticks": ""
            },
            "type": "choropleth"
           }
          ],
          "contour": [
           {
            "colorbar": {
             "outlinewidth": 0,
             "ticks": ""
            },
            "colorscale": [
             [
              0,
              "#0d0887"
             ],
             [
              0.1111111111111111,
              "#46039f"
             ],
             [
              0.2222222222222222,
              "#7201a8"
             ],
             [
              0.3333333333333333,
              "#9c179e"
             ],
             [
              0.4444444444444444,
              "#bd3786"
             ],
             [
              0.5555555555555556,
              "#d8576b"
             ],
             [
              0.6666666666666666,
              "#ed7953"
             ],
             [
              0.7777777777777778,
              "#fb9f3a"
             ],
             [
              0.8888888888888888,
              "#fdca26"
             ],
             [
              1,
              "#f0f921"
             ]
            ],
            "type": "contour"
           }
          ],
          "contourcarpet": [
           {
            "colorbar": {
             "outlinewidth": 0,
             "ticks": ""
            },
            "type": "contourcarpet"
           }
          ],
          "heatmap": [
           {
            "colorbar": {
             "outlinewidth": 0,
             "ticks": ""
            },
            "colorscale": [
             [
              0,
              "#0d0887"
             ],
             [
              0.1111111111111111,
              "#46039f"
             ],
             [
              0.2222222222222222,
              "#7201a8"
             ],
             [
              0.3333333333333333,
              "#9c179e"
             ],
             [
              0.4444444444444444,
              "#bd3786"
             ],
             [
              0.5555555555555556,
              "#d8576b"
             ],
             [
              0.6666666666666666,
              "#ed7953"
             ],
             [
              0.7777777777777778,
              "#fb9f3a"
             ],
             [
              0.8888888888888888,
              "#fdca26"
             ],
             [
              1,
              "#f0f921"
             ]
            ],
            "type": "heatmap"
           }
          ],
          "heatmapgl": [
           {
            "colorbar": {
             "outlinewidth": 0,
             "ticks": ""
            },
            "colorscale": [
             [
              0,
              "#0d0887"
             ],
             [
              0.1111111111111111,
              "#46039f"
             ],
             [
              0.2222222222222222,
              "#7201a8"
             ],
             [
              0.3333333333333333,
              "#9c179e"
             ],
             [
              0.4444444444444444,
              "#bd3786"
             ],
             [
              0.5555555555555556,
              "#d8576b"
             ],
             [
              0.6666666666666666,
              "#ed7953"
             ],
             [
              0.7777777777777778,
              "#fb9f3a"
             ],
             [
              0.8888888888888888,
              "#fdca26"
             ],
             [
              1,
              "#f0f921"
             ]
            ],
            "type": "heatmapgl"
           }
          ],
          "histogram": [
           {
            "marker": {
             "colorbar": {
              "outlinewidth": 0,
              "ticks": ""
             }
            },
            "type": "histogram"
           }
          ],
          "histogram2d": [
           {
            "colorbar": {
             "outlinewidth": 0,
             "ticks": ""
            },
            "colorscale": [
             [
              0,
              "#0d0887"
             ],
             [
              0.1111111111111111,
              "#46039f"
             ],
             [
              0.2222222222222222,
              "#7201a8"
             ],
             [
              0.3333333333333333,
              "#9c179e"
             ],
             [
              0.4444444444444444,
              "#bd3786"
             ],
             [
              0.5555555555555556,
              "#d8576b"
             ],
             [
              0.6666666666666666,
              "#ed7953"
             ],
             [
              0.7777777777777778,
              "#fb9f3a"
             ],
             [
              0.8888888888888888,
              "#fdca26"
             ],
             [
              1,
              "#f0f921"
             ]
            ],
            "type": "histogram2d"
           }
          ],
          "histogram2dcontour": [
           {
            "colorbar": {
             "outlinewidth": 0,
             "ticks": ""
            },
            "colorscale": [
             [
              0,
              "#0d0887"
             ],
             [
              0.1111111111111111,
              "#46039f"
             ],
             [
              0.2222222222222222,
              "#7201a8"
             ],
             [
              0.3333333333333333,
              "#9c179e"
             ],
             [
              0.4444444444444444,
              "#bd3786"
             ],
             [
              0.5555555555555556,
              "#d8576b"
             ],
             [
              0.6666666666666666,
              "#ed7953"
             ],
             [
              0.7777777777777778,
              "#fb9f3a"
             ],
             [
              0.8888888888888888,
              "#fdca26"
             ],
             [
              1,
              "#f0f921"
             ]
            ],
            "type": "histogram2dcontour"
           }
          ],
          "mesh3d": [
           {
            "colorbar": {
             "outlinewidth": 0,
             "ticks": ""
            },
            "type": "mesh3d"
           }
          ],
          "parcoords": [
           {
            "line": {
             "colorbar": {
              "outlinewidth": 0,
              "ticks": ""
             }
            },
            "type": "parcoords"
           }
          ],
          "pie": [
           {
            "automargin": true,
            "type": "pie"
           }
          ],
          "scatter": [
           {
            "marker": {
             "colorbar": {
              "outlinewidth": 0,
              "ticks": ""
             }
            },
            "type": "scatter"
           }
          ],
          "scatter3d": [
           {
            "line": {
             "colorbar": {
              "outlinewidth": 0,
              "ticks": ""
             }
            },
            "marker": {
             "colorbar": {
              "outlinewidth": 0,
              "ticks": ""
             }
            },
            "type": "scatter3d"
           }
          ],
          "scattercarpet": [
           {
            "marker": {
             "colorbar": {
              "outlinewidth": 0,
              "ticks": ""
             }
            },
            "type": "scattercarpet"
           }
          ],
          "scattergeo": [
           {
            "marker": {
             "colorbar": {
              "outlinewidth": 0,
              "ticks": ""
             }
            },
            "type": "scattergeo"
           }
          ],
          "scattergl": [
           {
            "marker": {
             "colorbar": {
              "outlinewidth": 0,
              "ticks": ""
             }
            },
            "type": "scattergl"
           }
          ],
          "scattermapbox": [
           {
            "marker": {
             "colorbar": {
              "outlinewidth": 0,
              "ticks": ""
             }
            },
            "type": "scattermapbox"
           }
          ],
          "scatterpolar": [
           {
            "marker": {
             "colorbar": {
              "outlinewidth": 0,
              "ticks": ""
             }
            },
            "type": "scatterpolar"
           }
          ],
          "scatterpolargl": [
           {
            "marker": {
             "colorbar": {
              "outlinewidth": 0,
              "ticks": ""
             }
            },
            "type": "scatterpolargl"
           }
          ],
          "scatterternary": [
           {
            "marker": {
             "colorbar": {
              "outlinewidth": 0,
              "ticks": ""
             }
            },
            "type": "scatterternary"
           }
          ],
          "surface": [
           {
            "colorbar": {
             "outlinewidth": 0,
             "ticks": ""
            },
            "colorscale": [
             [
              0,
              "#0d0887"
             ],
             [
              0.1111111111111111,
              "#46039f"
             ],
             [
              0.2222222222222222,
              "#7201a8"
             ],
             [
              0.3333333333333333,
              "#9c179e"
             ],
             [
              0.4444444444444444,
              "#bd3786"
             ],
             [
              0.5555555555555556,
              "#d8576b"
             ],
             [
              0.6666666666666666,
              "#ed7953"
             ],
             [
              0.7777777777777778,
              "#fb9f3a"
             ],
             [
              0.8888888888888888,
              "#fdca26"
             ],
             [
              1,
              "#f0f921"
             ]
            ],
            "type": "surface"
           }
          ],
          "table": [
           {
            "cells": {
             "fill": {
              "color": "#EBF0F8"
             },
             "line": {
              "color": "white"
             }
            },
            "header": {
             "fill": {
              "color": "#C8D4E3"
             },
             "line": {
              "color": "white"
             }
            },
            "type": "table"
           }
          ]
         },
         "layout": {
          "annotationdefaults": {
           "arrowcolor": "#2a3f5f",
           "arrowhead": 0,
           "arrowwidth": 1
          },
          "coloraxis": {
           "colorbar": {
            "outlinewidth": 0,
            "ticks": ""
           }
          },
          "colorscale": {
           "diverging": [
            [
             0,
             "#8e0152"
            ],
            [
             0.1,
             "#c51b7d"
            ],
            [
             0.2,
             "#de77ae"
            ],
            [
             0.3,
             "#f1b6da"
            ],
            [
             0.4,
             "#fde0ef"
            ],
            [
             0.5,
             "#f7f7f7"
            ],
            [
             0.6,
             "#e6f5d0"
            ],
            [
             0.7,
             "#b8e186"
            ],
            [
             0.8,
             "#7fbc41"
            ],
            [
             0.9,
             "#4d9221"
            ],
            [
             1,
             "#276419"
            ]
           ],
           "sequential": [
            [
             0,
             "#0d0887"
            ],
            [
             0.1111111111111111,
             "#46039f"
            ],
            [
             0.2222222222222222,
             "#7201a8"
            ],
            [
             0.3333333333333333,
             "#9c179e"
            ],
            [
             0.4444444444444444,
             "#bd3786"
            ],
            [
             0.5555555555555556,
             "#d8576b"
            ],
            [
             0.6666666666666666,
             "#ed7953"
            ],
            [
             0.7777777777777778,
             "#fb9f3a"
            ],
            [
             0.8888888888888888,
             "#fdca26"
            ],
            [
             1,
             "#f0f921"
            ]
           ],
           "sequentialminus": [
            [
             0,
             "#0d0887"
            ],
            [
             0.1111111111111111,
             "#46039f"
            ],
            [
             0.2222222222222222,
             "#7201a8"
            ],
            [
             0.3333333333333333,
             "#9c179e"
            ],
            [
             0.4444444444444444,
             "#bd3786"
            ],
            [
             0.5555555555555556,
             "#d8576b"
            ],
            [
             0.6666666666666666,
             "#ed7953"
            ],
            [
             0.7777777777777778,
             "#fb9f3a"
            ],
            [
             0.8888888888888888,
             "#fdca26"
            ],
            [
             1,
             "#f0f921"
            ]
           ]
          },
          "colorway": [
           "#636efa",
           "#EF553B",
           "#00cc96",
           "#ab63fa",
           "#FFA15A",
           "#19d3f3",
           "#FF6692",
           "#B6E880",
           "#FF97FF",
           "#FECB52"
          ],
          "font": {
           "color": "#2a3f5f"
          },
          "geo": {
           "bgcolor": "white",
           "lakecolor": "white",
           "landcolor": "#E5ECF6",
           "showlakes": true,
           "showland": true,
           "subunitcolor": "white"
          },
          "hoverlabel": {
           "align": "left"
          },
          "hovermode": "closest",
          "mapbox": {
           "style": "light"
          },
          "paper_bgcolor": "white",
          "plot_bgcolor": "#E5ECF6",
          "polar": {
           "angularaxis": {
            "gridcolor": "white",
            "linecolor": "white",
            "ticks": ""
           },
           "bgcolor": "#E5ECF6",
           "radialaxis": {
            "gridcolor": "white",
            "linecolor": "white",
            "ticks": ""
           }
          },
          "scene": {
           "xaxis": {
            "backgroundcolor": "#E5ECF6",
            "gridcolor": "white",
            "gridwidth": 2,
            "linecolor": "white",
            "showbackground": true,
            "ticks": "",
            "zerolinecolor": "white"
           },
           "yaxis": {
            "backgroundcolor": "#E5ECF6",
            "gridcolor": "white",
            "gridwidth": 2,
            "linecolor": "white",
            "showbackground": true,
            "ticks": "",
            "zerolinecolor": "white"
           },
           "zaxis": {
            "backgroundcolor": "#E5ECF6",
            "gridcolor": "white",
            "gridwidth": 2,
            "linecolor": "white",
            "showbackground": true,
            "ticks": "",
            "zerolinecolor": "white"
           }
          },
          "shapedefaults": {
           "line": {
            "color": "#2a3f5f"
           }
          },
          "ternary": {
           "aaxis": {
            "gridcolor": "white",
            "linecolor": "white",
            "ticks": ""
           },
           "baxis": {
            "gridcolor": "white",
            "linecolor": "white",
            "ticks": ""
           },
           "bgcolor": "#E5ECF6",
           "caxis": {
            "gridcolor": "white",
            "linecolor": "white",
            "ticks": ""
           }
          },
          "title": {
           "x": 0.05
          },
          "xaxis": {
           "automargin": true,
           "gridcolor": "white",
           "linecolor": "white",
           "ticks": "",
           "title": {
            "standoff": 15
           },
           "zerolinecolor": "white",
           "zerolinewidth": 2
          },
          "yaxis": {
           "automargin": true,
           "gridcolor": "white",
           "linecolor": "white",
           "ticks": "",
           "title": {
            "standoff": 15
           },
           "zerolinecolor": "white",
           "zerolinewidth": 2
          }
         }
        },
        "title": {
         "text": "Partielle Korrelationen mit Relig Index"
        },
        "xaxis": {
         "anchor": "y",
         "autorange": true,
         "domain": [
          0,
          1
         ],
         "range": [
          -0.5,
          9.5
         ],
         "title": {
          "text": "x"
         },
         "type": "category"
        },
        "yaxis": {
         "anchor": "x",
         "autorange": true,
         "domain": [
          0,
          1
         ],
         "range": [
          -0.2738888888888889,
          0.2038888888888889
         ],
         "title": {
          "text": "r"
         },
         "type": "linear"
        }
       }
      },
      "image/png": "[encoded data removed]",
      "text/html": [
       "<div>\n",
       "        \n",
       "        \n",
       "            <div id=\"5b0dc29f-3ebe-4c0a-a449-f68f0e817a6a\" class=\"plotly-graph-div\" style=\"height:525px; width:100%;\"></div>\n",
       "            <script type=\"text/javascript\">\n",
       "                require([\"plotly\"], function(Plotly) {\n",
       "                    window.PLOTLYENV=window.PLOTLYENV || {};\n",
       "                    \n",
       "                if (document.getElementById(\"5b0dc29f-3ebe-4c0a-a449-f68f0e817a6a\")) {\n",
       "                    Plotly.newPlot(\n",
       "                        '5b0dc29f-3ebe-4c0a-a449-f68f0e817a6a',\n",
       "                        [{\"error_y\": {\"array\": [0.03900000000000001, 0.043, 0.03999999999999998, 0.04100000000000001, 0.038, 0.036000000000000004, 0.041999999999999996, 0.033, 0.038000000000000006, 0.04100000000000001], \"arrayminus\": [0.041, 0.037, 0.04000000000000001, 0.03900000000000001, 0.041999999999999996, 0.044000000000000004, 0.038000000000000006, 0.037000000000000005, 0.042, 0.03900000000000001]}, \"hoverlabel\": {\"namelength\": 0}, \"hovertemplate\": \"x=%{x}<br>r=%{y}\", \"legendgroup\": \"\", \"line\": {\"color\": \"#636efa\", \"dash\": \"solid\"}, \"mode\": \"lines\", \"name\": \"\", \"showlegend\": false, \"type\": \"scatter\", \"x\": [\"selfdirection\", \"stimulation\", \"hedonism\", \"achievement\", \"power\", \"security\", \"conformity\", \"tradition\", \"benevolence\", \"universalism\"], \"xaxis\": \"x\", \"y\": [0.031, 0.047, 0.14, 0.099, 0.052, 0.034, -0.062, -0.213, -0.058, -0.101], \"yaxis\": \"y\"}],\n",
       "                        {\"legend\": {\"tracegroupgap\": 0}, \"template\": {\"data\": {\"bar\": [{\"error_x\": {\"color\": \"#2a3f5f\"}, \"error_y\": {\"color\": \"#2a3f5f\"}, \"marker\": {\"line\": {\"color\": \"#E5ECF6\", \"width\": 0.5}}, \"type\": \"bar\"}], \"barpolar\": [{\"marker\": {\"line\": {\"color\": \"#E5ECF6\", \"width\": 0.5}}, \"type\": \"barpolar\"}], \"carpet\": [{\"aaxis\": {\"endlinecolor\": \"#2a3f5f\", \"gridcolor\": \"white\", \"linecolor\": \"white\", \"minorgridcolor\": \"white\", \"startlinecolor\": \"#2a3f5f\"}, \"baxis\": {\"endlinecolor\": \"#2a3f5f\", \"gridcolor\": \"white\", \"linecolor\": \"white\", \"minorgridcolor\": \"white\", \"startlinecolor\": \"#2a3f5f\"}, \"type\": \"carpet\"}], \"choropleth\": [{\"colorbar\": {\"outlinewidth\": 0, \"ticks\": \"\"}, \"type\": \"choropleth\"}], \"contour\": [{\"colorbar\": {\"outlinewidth\": 0, \"ticks\": \"\"}, \"colorscale\": [[0.0, \"#0d0887\"], [0.1111111111111111, \"#46039f\"], [0.2222222222222222, \"#7201a8\"], [0.3333333333333333, \"#9c179e\"], [0.4444444444444444, \"#bd3786\"], [0.5555555555555556, \"#d8576b\"], [0.6666666666666666, \"#ed7953\"], [0.7777777777777778, \"#fb9f3a\"], [0.8888888888888888, \"#fdca26\"], [1.0, \"#f0f921\"]], \"type\": \"contour\"}], \"contourcarpet\": [{\"colorbar\": {\"outlinewidth\": 0, \"ticks\": \"\"}, \"type\": \"contourcarpet\"}], \"heatmap\": [{\"colorbar\": {\"outlinewidth\": 0, \"ticks\": \"\"}, \"colorscale\": [[0.0, \"#0d0887\"], [0.1111111111111111, \"#46039f\"], [0.2222222222222222, \"#7201a8\"], [0.3333333333333333, \"#9c179e\"], [0.4444444444444444, \"#bd3786\"], [0.5555555555555556, \"#d8576b\"], [0.6666666666666666, \"#ed7953\"], [0.7777777777777778, \"#fb9f3a\"], [0.8888888888888888, \"#fdca26\"], [1.0, \"#f0f921\"]], \"type\": \"heatmap\"}], \"heatmapgl\": [{\"colorbar\": {\"outlinewidth\": 0, \"ticks\": \"\"}, \"colorscale\": [[0.0, \"#0d0887\"], [0.1111111111111111, \"#46039f\"], [0.2222222222222222, \"#7201a8\"], [0.3333333333333333, \"#9c179e\"], [0.4444444444444444, \"#bd3786\"], [0.5555555555555556, \"#d8576b\"], [0.6666666666666666, \"#ed7953\"], [0.7777777777777778, \"#fb9f3a\"], [0.8888888888888888, \"#fdca26\"], [1.0, \"#f0f921\"]], \"type\": \"heatmapgl\"}], \"histogram\": [{\"marker\": {\"colorbar\": {\"outlinewidth\": 0, \"ticks\": \"\"}}, \"type\": \"histogram\"}], \"histogram2d\": [{\"colorbar\": {\"outlinewidth\": 0, \"ticks\": \"\"}, \"colorscale\": [[0.0, \"#0d0887\"], [0.1111111111111111, \"#46039f\"], [0.2222222222222222, \"#7201a8\"], [0.3333333333333333, \"#9c179e\"], [0.4444444444444444, \"#bd3786\"], [0.5555555555555556, \"#d8576b\"], [0.6666666666666666, \"#ed7953\"], [0.7777777777777778, \"#fb9f3a\"], [0.8888888888888888, \"#fdca26\"], [1.0, \"#f0f921\"]], \"type\": \"histogram2d\"}], \"histogram2dcontour\": [{\"colorbar\": {\"outlinewidth\": 0, \"ticks\": \"\"}, \"colorscale\": [[0.0, \"#0d0887\"], [0.1111111111111111, \"#46039f\"], [0.2222222222222222, \"#7201a8\"], [0.3333333333333333, \"#9c179e\"], [0.4444444444444444, \"#bd3786\"], [0.5555555555555556, \"#d8576b\"], [0.6666666666666666, \"#ed7953\"], [0.7777777777777778, \"#fb9f3a\"], [0.8888888888888888, \"#fdca26\"], [1.0, \"#f0f921\"]], \"type\": \"histogram2dcontour\"}], \"mesh3d\": [{\"colorbar\": {\"outlinewidth\": 0, \"ticks\": \"\"}, \"type\": \"mesh3d\"}], \"parcoords\": [{\"line\": {\"colorbar\": {\"outlinewidth\": 0, \"ticks\": \"\"}}, \"type\": \"parcoords\"}], \"pie\": [{\"automargin\": true, \"type\": \"pie\"}], \"scatter\": [{\"marker\": {\"colorbar\": {\"outlinewidth\": 0, \"ticks\": \"\"}}, \"type\": \"scatter\"}], \"scatter3d\": [{\"line\": {\"colorbar\": {\"outlinewidth\": 0, \"ticks\": \"\"}}, \"marker\": {\"colorbar\": {\"outlinewidth\": 0, \"ticks\": \"\"}}, \"type\": \"scatter3d\"}], \"scattercarpet\": [{\"marker\": {\"colorbar\": {\"outlinewidth\": 0, \"ticks\": \"\"}}, \"type\": \"scattercarpet\"}], \"scattergeo\": [{\"marker\": {\"colorbar\": {\"outlinewidth\": 0, \"ticks\": \"\"}}, \"type\": \"scattergeo\"}], \"scattergl\": [{\"marker\": {\"colorbar\": {\"outlinewidth\": 0, \"ticks\": \"\"}}, \"type\": \"scattergl\"}], \"scattermapbox\": [{\"marker\": {\"colorbar\": {\"outlinewidth\": 0, \"ticks\": \"\"}}, \"type\": \"scattermapbox\"}], \"scatterpolar\": [{\"marker\": {\"colorbar\": {\"outlinewidth\": 0, \"ticks\": \"\"}}, \"type\": \"scatterpolar\"}], \"scatterpolargl\": [{\"marker\": {\"colorbar\": {\"outlinewidth\": 0, \"ticks\": \"\"}}, \"type\": \"scatterpolargl\"}], \"scatterternary\": [{\"marker\": {\"colorbar\": {\"outlinewidth\": 0, \"ticks\": \"\"}}, \"type\": \"scatterternary\"}], \"surface\": [{\"colorbar\": {\"outlinewidth\": 0, \"ticks\": \"\"}, \"colorscale\": [[0.0, \"#0d0887\"], [0.1111111111111111, \"#46039f\"], [0.2222222222222222, \"#7201a8\"], [0.3333333333333333, \"#9c179e\"], [0.4444444444444444, \"#bd3786\"], [0.5555555555555556, \"#d8576b\"], [0.6666666666666666, \"#ed7953\"], [0.7777777777777778, \"#fb9f3a\"], [0.8888888888888888, \"#fdca26\"], [1.0, \"#f0f921\"]], \"type\": \"surface\"}], \"table\": [{\"cells\": {\"fill\": {\"color\": \"#EBF0F8\"}, \"line\": {\"color\": \"white\"}}, \"header\": {\"fill\": {\"color\": \"#C8D4E3\"}, \"line\": {\"color\": \"white\"}}, \"type\": \"table\"}]}, \"layout\": {\"annotationdefaults\": {\"arrowcolor\": \"#2a3f5f\", \"arrowhead\": 0, \"arrowwidth\": 1}, \"coloraxis\": {\"colorbar\": {\"outlinewidth\": 0, \"ticks\": \"\"}}, \"colorscale\": {\"diverging\": [[0, \"#8e0152\"], [0.1, \"#c51b7d\"], [0.2, \"#de77ae\"], [0.3, \"#f1b6da\"], [0.4, \"#fde0ef\"], [0.5, \"#f7f7f7\"], [0.6, \"#e6f5d0\"], [0.7, \"#b8e186\"], [0.8, \"#7fbc41\"], [0.9, \"#4d9221\"], [1, \"#276419\"]], \"sequential\": [[0.0, \"#0d0887\"], [0.1111111111111111, \"#46039f\"], [0.2222222222222222, \"#7201a8\"], [0.3333333333333333, \"#9c179e\"], [0.4444444444444444, \"#bd3786\"], [0.5555555555555556, \"#d8576b\"], [0.6666666666666666, \"#ed7953\"], [0.7777777777777778, \"#fb9f3a\"], [0.8888888888888888, \"#fdca26\"], [1.0, \"#f0f921\"]], \"sequentialminus\": [[0.0, \"#0d0887\"], [0.1111111111111111, \"#46039f\"], [0.2222222222222222, \"#7201a8\"], [0.3333333333333333, \"#9c179e\"], [0.4444444444444444, \"#bd3786\"], [0.5555555555555556, \"#d8576b\"], [0.6666666666666666, \"#ed7953\"], [0.7777777777777778, \"#fb9f3a\"], [0.8888888888888888, \"#fdca26\"], [1.0, \"#f0f921\"]]}, \"colorway\": [\"#636efa\", \"#EF553B\", \"#00cc96\", \"#ab63fa\", \"#FFA15A\", \"#19d3f3\", \"#FF6692\", \"#B6E880\", \"#FF97FF\", \"#FECB52\"], \"font\": {\"color\": \"#2a3f5f\"}, \"geo\": {\"bgcolor\": \"white\", \"lakecolor\": \"white\", \"landcolor\": \"#E5ECF6\", \"showlakes\": true, \"showland\": true, \"subunitcolor\": \"white\"}, \"hoverlabel\": {\"align\": \"left\"}, \"hovermode\": \"closest\", \"mapbox\": {\"style\": \"light\"}, \"paper_bgcolor\": \"white\", \"plot_bgcolor\": \"#E5ECF6\", \"polar\": {\"angularaxis\": {\"gridcolor\": \"white\", \"linecolor\": \"white\", \"ticks\": \"\"}, \"bgcolor\": \"#E5ECF6\", \"radialaxis\": {\"gridcolor\": \"white\", \"linecolor\": \"white\", \"ticks\": \"\"}}, \"scene\": {\"xaxis\": {\"backgroundcolor\": \"#E5ECF6\", \"gridcolor\": \"white\", \"gridwidth\": 2, \"linecolor\": \"white\", \"showbackground\": true, \"ticks\": \"\", \"zerolinecolor\": \"white\"}, \"yaxis\": {\"backgroundcolor\": \"#E5ECF6\", \"gridcolor\": \"white\", \"gridwidth\": 2, \"linecolor\": \"white\", \"showbackground\": true, \"ticks\": \"\", \"zerolinecolor\": \"white\"}, \"zaxis\": {\"backgroundcolor\": \"#E5ECF6\", \"gridcolor\": \"white\", \"gridwidth\": 2, \"linecolor\": \"white\", \"showbackground\": true, \"ticks\": \"\", \"zerolinecolor\": \"white\"}}, \"shapedefaults\": {\"line\": {\"color\": \"#2a3f5f\"}}, \"ternary\": {\"aaxis\": {\"gridcolor\": \"white\", \"linecolor\": \"white\", \"ticks\": \"\"}, \"baxis\": {\"gridcolor\": \"white\", \"linecolor\": \"white\", \"ticks\": \"\"}, \"bgcolor\": \"#E5ECF6\", \"caxis\": {\"gridcolor\": \"white\", \"linecolor\": \"white\", \"ticks\": \"\"}}, \"title\": {\"x\": 0.05}, \"xaxis\": {\"automargin\": true, \"gridcolor\": \"white\", \"linecolor\": \"white\", \"ticks\": \"\", \"title\": {\"standoff\": 15}, \"zerolinecolor\": \"white\", \"zerolinewidth\": 2}, \"yaxis\": {\"automargin\": true, \"gridcolor\": \"white\", \"linecolor\": \"white\", \"ticks\": \"\", \"title\": {\"standoff\": 15}, \"zerolinecolor\": \"white\", \"zerolinewidth\": 2}}}, \"title\": {\"text\": \"Partielle Korrelationen mit Relig Index\"}, \"xaxis\": {\"anchor\": \"y\", \"domain\": [0.0, 1.0], \"title\": {\"text\": \"x\"}}, \"yaxis\": {\"anchor\": \"x\", \"domain\": [0.0, 1.0], \"title\": {\"text\": \"r\"}}},\n",
       "                        {\"responsive\": true}\n",
       "                    ).then(function(){\n",
       "                            \n",
       "var gd = document.getElementById('5b0dc29f-3ebe-4c0a-a449-f68f0e817a6a');\n",
       "var x = new MutationObserver(function (mutations, observer) {{\n",
       "        var display = window.getComputedStyle(gd).display;\n",
       "        if (!display || display === 'none') {{\n",
       "            console.log([gd, 'removed!']);\n",
       "            Plotly.purge(gd);\n",
       "            observer.disconnect();\n",
       "        }}\n",
       "}});\n",
       "\n",
       "// Listen for the removal of the full notebook cells\n",
       "var notebookContainer = gd.closest('#notebook-container');\n",
       "if (notebookContainer) {{\n",
       "    x.observe(notebookContainer, {childList: true});\n",
       "}}\n",
       "\n",
       "// Listen for the clearing of the current output cell\n",
       "var outputEl = gd.closest('.output');\n",
       "if (outputEl) {{\n",
       "    x.observe(outputEl, {childList: true});\n",
       "}}\n",
       "\n",
       "                        })\n",
       "                };\n",
       "                });\n",
       "            </script>\n",
       "        </div>"
      ]
     },
     "metadata": {},
     "output_type": "display_data"
    }
   ],
   "source": [
    "px.line(df,x=df.index,y='r',\n",
    "        title='Partielle Korrelationen mit Relig Index',\n",
    "        error_y='error_y',error_y_minus='error_y_minus')"
   ]
  },
  {
   "cell_type": "code",
   "execution_count": 33,
   "metadata": {},
   "outputs": [
    {
     "data": {
      "text/html": [
       "<div>\n",
       "<style scoped>\n",
       "    .dataframe tbody tr th:only-of-type {\n",
       "        vertical-align: middle;\n",
       "    }\n",
       "\n",
       "    .dataframe tbody tr th {\n",
       "        vertical-align: top;\n",
       "    }\n",
       "\n",
       "    .dataframe thead th {\n",
       "        text-align: right;\n",
       "    }\n",
       "</style>\n",
       "<table border=\"1\" class=\"dataframe\">\n",
       "  <thead>\n",
       "    <tr style=\"text-align: right;\">\n",
       "      <th></th>\n",
       "      <th>n</th>\n",
       "      <th>r</th>\n",
       "      <th>CI95%</th>\n",
       "      <th>r2</th>\n",
       "      <th>adj_r2</th>\n",
       "      <th>p-val</th>\n",
       "      <th>BF10</th>\n",
       "      <th>power</th>\n",
       "      <th>Gruppe</th>\n",
       "      <th>error_y_minus</th>\n",
       "      <th>error_y</th>\n",
       "    </tr>\n",
       "  </thead>\n",
       "  <tbody>\n",
       "    <tr>\n",
       "      <th>selfdirection</th>\n",
       "      <td>2512</td>\n",
       "      <td>0.031</td>\n",
       "      <td>[-0.01, 0.07]</td>\n",
       "      <td>0.001</td>\n",
       "      <td>0.000</td>\n",
       "      <td>0.121</td>\n",
       "      <td>0.083</td>\n",
       "      <td>0.341</td>\n",
       "      <td>Insgesamt</td>\n",
       "      <td>0.041</td>\n",
       "      <td>0.039</td>\n",
       "    </tr>\n",
       "    <tr>\n",
       "      <th>stimulation</th>\n",
       "      <td>2514</td>\n",
       "      <td>0.047</td>\n",
       "      <td>[0.01, 0.09]</td>\n",
       "      <td>0.002</td>\n",
       "      <td>0.001</td>\n",
       "      <td>0.018</td>\n",
       "      <td>0.405</td>\n",
       "      <td>0.656</td>\n",
       "      <td>Insgesamt</td>\n",
       "      <td>0.037</td>\n",
       "      <td>0.043</td>\n",
       "    </tr>\n",
       "    <tr>\n",
       "      <th>hedonism</th>\n",
       "      <td>2514</td>\n",
       "      <td>0.140</td>\n",
       "      <td>[0.1, 0.18]</td>\n",
       "      <td>0.020</td>\n",
       "      <td>0.019</td>\n",
       "      <td>0.000</td>\n",
       "      <td>1.549e+09</td>\n",
       "      <td>1.000</td>\n",
       "      <td>Insgesamt</td>\n",
       "      <td>0.040</td>\n",
       "      <td>0.040</td>\n",
       "    </tr>\n",
       "    <tr>\n",
       "      <th>achievement</th>\n",
       "      <td>2514</td>\n",
       "      <td>0.099</td>\n",
       "      <td>[0.06, 0.14]</td>\n",
       "      <td>0.010</td>\n",
       "      <td>0.009</td>\n",
       "      <td>0.000</td>\n",
       "      <td>5433.914</td>\n",
       "      <td>0.999</td>\n",
       "      <td>Insgesamt</td>\n",
       "      <td>0.039</td>\n",
       "      <td>0.041</td>\n",
       "    </tr>\n",
       "    <tr>\n",
       "      <th>power</th>\n",
       "      <td>2513</td>\n",
       "      <td>0.052</td>\n",
       "      <td>[0.01, 0.09]</td>\n",
       "      <td>0.003</td>\n",
       "      <td>0.002</td>\n",
       "      <td>0.009</td>\n",
       "      <td>0.726</td>\n",
       "      <td>0.738</td>\n",
       "      <td>Insgesamt</td>\n",
       "      <td>0.042</td>\n",
       "      <td>0.038</td>\n",
       "    </tr>\n",
       "  </tbody>\n",
       "</table>\n",
       "</div>"
      ],
      "text/plain": [
       "                  n      r          CI95%     r2  adj_r2  p-val       BF10  \\\n",
       "selfdirection  2512  0.031  [-0.01, 0.07]  0.001   0.000  0.121      0.083   \n",
       "stimulation    2514  0.047   [0.01, 0.09]  0.002   0.001  0.018      0.405   \n",
       "hedonism       2514  0.140    [0.1, 0.18]  0.020   0.019  0.000  1.549e+09   \n",
       "achievement    2514  0.099   [0.06, 0.14]  0.010   0.009  0.000   5433.914   \n",
       "power          2513  0.052   [0.01, 0.09]  0.003   0.002  0.009      0.726   \n",
       "\n",
       "               power     Gruppe  error_y_minus  error_y  \n",
       "selfdirection  0.341  Insgesamt          0.041    0.039  \n",
       "stimulation    0.656  Insgesamt          0.037    0.043  \n",
       "hedonism       1.000  Insgesamt          0.040    0.040  \n",
       "achievement    0.999  Insgesamt          0.039    0.041  \n",
       "power          0.738  Insgesamt          0.042    0.038  "
      ]
     },
     "execution_count": 33,
     "metadata": {},
     "output_type": "execute_result"
    }
   ],
   "source": [
    "df_list = pd.DataFrame()\n",
    "for var in filter_vars:\n",
    "    filters = filter_vars[var].keys()\n",
    "    #print(filters)\n",
    "    for group_nr in filters:\n",
    "        group_name = filter_vars[var][group_nr]\n",
    "        #print(group_name)\n",
    "        relevant_groups = ess.loc[ess[var]==group_nr,:]\n",
    "        #print(relevant_groups)\n",
    "        corrs = part_corr_value(relevant_groups,schwarz_items)#.reset_index()\n",
    "        corrs['Gruppe'] = group_name\n",
    "        #print(corrs)\n",
    "        corrs = confidence_intervalls(corrs)\n",
    "        df_list = df_list.append(corrs,)#ignore_index=True)\n",
    "df_list.head()"
   ]
  },
  {
   "cell_type": "code",
   "execution_count": 34,
   "metadata": {},
   "outputs": [
    {
     "data": {
      "application/vnd.plotly.v1+json": {
       "config": {
        "plotlyServerURL": "https://plot.ly"
       },
       "data": [
        {
         "error_y": {
          "array": [
           0.03900000000000001,
           0.043,
           0.03999999999999998,
           0.04100000000000001,
           0.038,
           0.036000000000000004,
           0.041999999999999996,
           0.033,
           0.038000000000000006,
           0.04100000000000001
          ],
          "arrayminus": [
           0.041,
           0.037,
           0.04000000000000001,
           0.03900000000000001,
           0.041999999999999996,
           0.044000000000000004,
           0.038000000000000006,
           0.037000000000000005,
           0.042,
           0.03900000000000001
          ]
         },
         "hoverlabel": {
          "namelength": 0
         },
         "hovertemplate": "Gruppe=Insgesamt<br>index=%{x}<br>r=%{y}",
         "legendgroup": "Gruppe=Insgesamt",
         "line": {
          "color": "#636efa",
          "dash": "solid"
         },
         "mode": "lines",
         "name": "Gruppe=Insgesamt",
         "showlegend": true,
         "type": "scatter",
         "x": [
          "selfdirection",
          "stimulation",
          "hedonism",
          "achievement",
          "power",
          "security",
          "conformity",
          "tradition",
          "benevolence",
          "universalism"
         ],
         "xaxis": "x6",
         "y": [
          0.031,
          0.047,
          0.14,
          0.099,
          0.052,
          0.034,
          -0.062,
          -0.213,
          -0.058,
          -0.101
         ],
         "yaxis": "y6"
        },
        {
         "error_y": {
          "array": [
           0.087,
           0.08800000000000001,
           0.08300000000000002,
           0.086,
           0.08800000000000002,
           0.08199999999999999,
           0.08299999999999999,
           0.08399999999999999,
           0.081,
           0.081
          ],
          "arrayminus": [
           0.083,
           0.082,
           0.087,
           0.08399999999999999,
           0.08199999999999999,
           0.08800000000000001,
           0.08700000000000002,
           0.07599999999999998,
           0.07899999999999999,
           0.079
          ]
         },
         "hoverlabel": {
          "namelength": 0
         },
         "hovertemplate": "Gruppe=Katholiken<br>index=%{x}<br>r=%{y}",
         "legendgroup": "Gruppe=Katholiken",
         "line": {
          "color": "#EF553B",
          "dash": "solid"
         },
         "mode": "lines",
         "name": "Gruppe=Katholiken",
         "showlegend": true,
         "type": "scatter",
         "x": [
          "selfdirection",
          "stimulation",
          "hedonism",
          "achievement",
          "power",
          "security",
          "conformity",
          "tradition",
          "benevolence",
          "universalism"
         ],
         "xaxis": "x5",
         "y": [
          0.003,
          0.082,
          0.147,
          0.124,
          0.052,
          -0.072,
          -0.053,
          -0.214,
          -0.101,
          -0.081
         ],
         "yaxis": "y5"
        },
        {
         "error_y": {
          "array": [
           0.072,
           0.075,
           0.07599999999999998,
           0.07400000000000001,
           0.076,
           0.07300000000000001,
           0.072,
           0.07300000000000001,
           0.07500000000000001,
           0.071
          ],
          "arrayminus": [
           0.078,
           0.075,
           0.07400000000000001,
           0.076,
           0.07400000000000001,
           0.077,
           0.06800000000000002,
           0.067,
           0.07500000000000001,
           0.069
          ]
         },
         "hoverlabel": {
          "namelength": 0
         },
         "hovertemplate": "Gruppe=Protestanten<br>index=%{x}<br>r=%{y}",
         "legendgroup": "Gruppe=Protestanten",
         "line": {
          "color": "#00cc96",
          "dash": "solid"
         },
         "mode": "lines",
         "name": "Gruppe=Protestanten",
         "showlegend": true,
         "type": "scatter",
         "x": [
          "selfdirection",
          "stimulation",
          "hedonism",
          "achievement",
          "power",
          "security",
          "conformity",
          "tradition",
          "benevolence",
          "universalism"
         ],
         "xaxis": "x4",
         "y": [
          0.018,
          0.015,
          0.164,
          0.066,
          0.004,
          0.067,
          -0.102,
          -0.163,
          -0.025,
          -0.051
         ],
         "yaxis": "y4"
        },
        {
         "error_y": {
          "array": [
           0.064,
           0.058,
           0.063,
           0.05900000000000001,
           0.061,
           0.06000000000000001,
           0.061,
           0.061,
           0.063,
           0.059
          ],
          "arrayminus": [
           0.05600000000000001,
           0.06199999999999999,
           0.057,
           0.061,
           0.059000000000000004,
           0.06,
           0.059000000000000004,
           0.059000000000000004,
           0.05700000000000001,
           0.061
          ]
         },
         "hoverlabel": {
          "namelength": 0
         },
         "hovertemplate": "Gruppe=konfessionslos<br>index=%{x}<br>r=%{y}",
         "legendgroup": "Gruppe=konfessionslos",
         "line": {
          "color": "#ab63fa",
          "dash": "solid"
         },
         "mode": "lines",
         "name": "Gruppe=konfessionslos",
         "showlegend": true,
         "type": "scatter",
         "x": [
          "selfdirection",
          "stimulation",
          "hedonism",
          "achievement",
          "power",
          "security",
          "conformity",
          "tradition",
          "benevolence",
          "universalism"
         ],
         "xaxis": "x3",
         "y": [
          -0.104,
          -0.058,
          0.057,
          0.081,
          0.069,
          0.08,
          0.069,
          -0.041,
          -0.103,
          -0.129
         ],
         "yaxis": "y3"
        },
        {
         "error_y": {
          "array": [
           0.06899999999999999,
           0.062,
           0.066,
           0.06299999999999999,
           0.063,
           0.06699999999999999,
           0.066,
           0.062,
           0.062,
           0.067
          ],
          "arrayminus": [
           0.07100000000000001,
           0.068,
           0.064,
           0.067,
           0.067,
           0.063,
           0.064,
           0.057999999999999996,
           0.068,
           0.06299999999999999
          ]
         },
         "hoverlabel": {
          "namelength": 0
         },
         "hovertemplate": "Gruppe=Ostdeutschland<br>index=%{x}<br>r=%{y}",
         "legendgroup": "Gruppe=Ostdeutschland",
         "line": {
          "color": "#FFA15A",
          "dash": "solid"
         },
         "mode": "lines",
         "name": "Gruppe=Ostdeutschland",
         "showlegend": true,
         "type": "scatter",
         "x": [
          "selfdirection",
          "stimulation",
          "hedonism",
          "achievement",
          "power",
          "security",
          "conformity",
          "tradition",
          "benevolence",
          "universalism"
         ],
         "xaxis": "x2",
         "y": [
          0.021,
          -0.022,
          0.134,
          0.117,
          0.047,
          0.083,
          -0.046,
          -0.202,
          -0.032,
          -0.117
         ],
         "yaxis": "y2"
        },
        {
         "error_y": {
          "array": [
           0.045,
           0.04600000000000001,
           0.05100000000000002,
           0.05199999999999999,
           0.04800000000000001,
           0.044,
           0.05199999999999999,
           0.04600000000000001,
           0.048,
           0.051
          ],
          "arrayminus": [
           0.045,
           0.044,
           0.04899999999999999,
           0.048,
           0.052,
           0.046000000000000006,
           0.048,
           0.043999999999999984,
           0.05199999999999999,
           0.049
          ]
         },
         "hoverlabel": {
          "namelength": 0
         },
         "hovertemplate": "Gruppe=Westdeutschland<br>index=%{x}<br>r=%{y}",
         "legendgroup": "Gruppe=Westdeutschland",
         "line": {
          "color": "#19d3f3",
          "dash": "solid"
         },
         "mode": "lines",
         "name": "Gruppe=Westdeutschland",
         "showlegend": true,
         "type": "scatter",
         "x": [
          "selfdirection",
          "stimulation",
          "hedonism",
          "achievement",
          "power",
          "security",
          "conformity",
          "tradition",
          "benevolence",
          "universalism"
         ],
         "xaxis": "x",
         "y": [
          0.065,
          0.124,
          0.149,
          0.098,
          0.052,
          -0.024,
          -0.102,
          -0.256,
          -0.068,
          -0.061
         ],
         "yaxis": "y"
        }
       ],
       "layout": {
        "annotations": [
         {
          "font": {},
          "showarrow": false,
          "text": "Gruppe=Westdeutschland",
          "textangle": 90,
          "x": 0.98,
          "xanchor": "left",
          "xref": "paper",
          "y": 0.07083333333333333,
          "yanchor": "middle",
          "yref": "paper"
         },
         {
          "font": {},
          "showarrow": false,
          "text": "Gruppe=Ostdeutschland",
          "textangle": 90,
          "x": 0.98,
          "xanchor": "left",
          "xref": "paper",
          "y": 0.2425,
          "yanchor": "middle",
          "yref": "paper"
         },
         {
          "font": {},
          "showarrow": false,
          "text": "Gruppe=konfessionslos",
          "textangle": 90,
          "x": 0.98,
          "xanchor": "left",
          "xref": "paper",
          "y": 0.4141666666666667,
          "yanchor": "middle",
          "yref": "paper"
         },
         {
          "font": {},
          "showarrow": false,
          "text": "Gruppe=Protestanten",
          "textangle": 90,
          "x": 0.98,
          "xanchor": "left",
          "xref": "paper",
          "y": 0.5858333333333334,
          "yanchor": "middle",
          "yref": "paper"
         },
         {
          "font": {},
          "showarrow": false,
          "text": "Gruppe=Katholiken",
          "textangle": 90,
          "x": 0.98,
          "xanchor": "left",
          "xref": "paper",
          "y": 0.7575000000000001,
          "yanchor": "middle",
          "yref": "paper"
         },
         {
          "font": {},
          "showarrow": false,
          "text": "Gruppe=Insgesamt",
          "textangle": 90,
          "x": 0.98,
          "xanchor": "left",
          "xref": "paper",
          "y": 0.9291666666666667,
          "yanchor": "middle",
          "yref": "paper"
         }
        ],
        "autosize": true,
        "legend": {
         "tracegroupgap": 0
        },
        "template": {
         "data": {
          "bar": [
           {
            "error_x": {
             "color": "#2a3f5f"
            },
            "error_y": {
             "color": "#2a3f5f"
            },
            "marker": {
             "line": {
              "color": "#E5ECF6",
              "width": 0.5
             }
            },
            "type": "bar"
           }
          ],
          "barpolar": [
           {
            "marker": {
             "line": {
              "color": "#E5ECF6",
              "width": 0.5
             }
            },
            "type": "barpolar"
           }
          ],
          "carpet": [
           {
            "aaxis": {
             "endlinecolor": "#2a3f5f",
             "gridcolor": "white",
             "linecolor": "white",
             "minorgridcolor": "white",
             "startlinecolor": "#2a3f5f"
            },
            "baxis": {
             "endlinecolor": "#2a3f5f",
             "gridcolor": "white",
             "linecolor": "white",
             "minorgridcolor": "white",
             "startlinecolor": "#2a3f5f"
            },
            "type": "carpet"
           }
          ],
          "choropleth": [
           {
            "colorbar": {
             "outlinewidth": 0,
             "ticks": ""
            },
            "type": "choropleth"
           }
          ],
          "contour": [
           {
            "colorbar": {
             "outlinewidth": 0,
             "ticks": ""
            },
            "colorscale": [
             [
              0,
              "#0d0887"
             ],
             [
              0.1111111111111111,
              "#46039f"
             ],
             [
              0.2222222222222222,
              "#7201a8"
             ],
             [
              0.3333333333333333,
              "#9c179e"
             ],
             [
              0.4444444444444444,
              "#bd3786"
             ],
             [
              0.5555555555555556,
              "#d8576b"
             ],
             [
              0.6666666666666666,
              "#ed7953"
             ],
             [
              0.7777777777777778,
              "#fb9f3a"
             ],
             [
              0.8888888888888888,
              "#fdca26"
             ],
             [
              1,
              "#f0f921"
             ]
            ],
            "type": "contour"
           }
          ],
          "contourcarpet": [
           {
            "colorbar": {
             "outlinewidth": 0,
             "ticks": ""
            },
            "type": "contourcarpet"
           }
          ],
          "heatmap": [
           {
            "colorbar": {
             "outlinewidth": 0,
             "ticks": ""
            },
            "colorscale": [
             [
              0,
              "#0d0887"
             ],
             [
              0.1111111111111111,
              "#46039f"
             ],
             [
              0.2222222222222222,
              "#7201a8"
             ],
             [
              0.3333333333333333,
              "#9c179e"
             ],
             [
              0.4444444444444444,
              "#bd3786"
             ],
             [
              0.5555555555555556,
              "#d8576b"
             ],
             [
              0.6666666666666666,
              "#ed7953"
             ],
             [
              0.7777777777777778,
              "#fb9f3a"
             ],
             [
              0.8888888888888888,
              "#fdca26"
             ],
             [
              1,
              "#f0f921"
             ]
            ],
            "type": "heatmap"
           }
          ],
          "heatmapgl": [
           {
            "colorbar": {
             "outlinewidth": 0,
             "ticks": ""
            },
            "colorscale": [
             [
              0,
              "#0d0887"
             ],
             [
              0.1111111111111111,
              "#46039f"
             ],
             [
              0.2222222222222222,
              "#7201a8"
             ],
             [
              0.3333333333333333,
              "#9c179e"
             ],
             [
              0.4444444444444444,
              "#bd3786"
             ],
             [
              0.5555555555555556,
              "#d8576b"
             ],
             [
              0.6666666666666666,
              "#ed7953"
             ],
             [
              0.7777777777777778,
              "#fb9f3a"
             ],
             [
              0.8888888888888888,
              "#fdca26"
             ],
             [
              1,
              "#f0f921"
             ]
            ],
            "type": "heatmapgl"
           }
          ],
          "histogram": [
           {
            "marker": {
             "colorbar": {
              "outlinewidth": 0,
              "ticks": ""
             }
            },
            "type": "histogram"
           }
          ],
          "histogram2d": [
           {
            "colorbar": {
             "outlinewidth": 0,
             "ticks": ""
            },
            "colorscale": [
             [
              0,
              "#0d0887"
             ],
             [
              0.1111111111111111,
              "#46039f"
             ],
             [
              0.2222222222222222,
              "#7201a8"
             ],
             [
              0.3333333333333333,
              "#9c179e"
             ],
             [
              0.4444444444444444,
              "#bd3786"
             ],
             [
              0.5555555555555556,
              "#d8576b"
             ],
             [
              0.6666666666666666,
              "#ed7953"
             ],
             [
              0.7777777777777778,
              "#fb9f3a"
             ],
             [
              0.8888888888888888,
              "#fdca26"
             ],
             [
              1,
              "#f0f921"
             ]
            ],
            "type": "histogram2d"
           }
          ],
          "histogram2dcontour": [
           {
            "colorbar": {
             "outlinewidth": 0,
             "ticks": ""
            },
            "colorscale": [
             [
              0,
              "#0d0887"
             ],
             [
              0.1111111111111111,
              "#46039f"
             ],
             [
              0.2222222222222222,
              "#7201a8"
             ],
             [
              0.3333333333333333,
              "#9c179e"
             ],
             [
              0.4444444444444444,
              "#bd3786"
             ],
             [
              0.5555555555555556,
              "#d8576b"
             ],
             [
              0.6666666666666666,
              "#ed7953"
             ],
             [
              0.7777777777777778,
              "#fb9f3a"
             ],
             [
              0.8888888888888888,
              "#fdca26"
             ],
             [
              1,
              "#f0f921"
             ]
            ],
            "type": "histogram2dcontour"
           }
          ],
          "mesh3d": [
           {
            "colorbar": {
             "outlinewidth": 0,
             "ticks": ""
            },
            "type": "mesh3d"
           }
          ],
          "parcoords": [
           {
            "line": {
             "colorbar": {
              "outlinewidth": 0,
              "ticks": ""
             }
            },
            "type": "parcoords"
           }
          ],
          "pie": [
           {
            "automargin": true,
            "type": "pie"
           }
          ],
          "scatter": [
           {
            "marker": {
             "colorbar": {
              "outlinewidth": 0,
              "ticks": ""
             }
            },
            "type": "scatter"
           }
          ],
          "scatter3d": [
           {
            "line": {
             "colorbar": {
              "outlinewidth": 0,
              "ticks": ""
             }
            },
            "marker": {
             "colorbar": {
              "outlinewidth": 0,
              "ticks": ""
             }
            },
            "type": "scatter3d"
           }
          ],
          "scattercarpet": [
           {
            "marker": {
             "colorbar": {
              "outlinewidth": 0,
              "ticks": ""
             }
            },
            "type": "scattercarpet"
           }
          ],
          "scattergeo": [
           {
            "marker": {
             "colorbar": {
              "outlinewidth": 0,
              "ticks": ""
             }
            },
            "type": "scattergeo"
           }
          ],
          "scattergl": [
           {
            "marker": {
             "colorbar": {
              "outlinewidth": 0,
              "ticks": ""
             }
            },
            "type": "scattergl"
           }
          ],
          "scattermapbox": [
           {
            "marker": {
             "colorbar": {
              "outlinewidth": 0,
              "ticks": ""
             }
            },
            "type": "scattermapbox"
           }
          ],
          "scatterpolar": [
           {
            "marker": {
             "colorbar": {
              "outlinewidth": 0,
              "ticks": ""
             }
            },
            "type": "scatterpolar"
           }
          ],
          "scatterpolargl": [
           {
            "marker": {
             "colorbar": {
              "outlinewidth": 0,
              "ticks": ""
             }
            },
            "type": "scatterpolargl"
           }
          ],
          "scatterternary": [
           {
            "marker": {
             "colorbar": {
              "outlinewidth": 0,
              "ticks": ""
             }
            },
            "type": "scatterternary"
           }
          ],
          "surface": [
           {
            "colorbar": {
             "outlinewidth": 0,
             "ticks": ""
            },
            "colorscale": [
             [
              0,
              "#0d0887"
             ],
             [
              0.1111111111111111,
              "#46039f"
             ],
             [
              0.2222222222222222,
              "#7201a8"
             ],
             [
              0.3333333333333333,
              "#9c179e"
             ],
             [
              0.4444444444444444,
              "#bd3786"
             ],
             [
              0.5555555555555556,
              "#d8576b"
             ],
             [
              0.6666666666666666,
              "#ed7953"
             ],
             [
              0.7777777777777778,
              "#fb9f3a"
             ],
             [
              0.8888888888888888,
              "#fdca26"
             ],
             [
              1,
              "#f0f921"
             ]
            ],
            "type": "surface"
           }
          ],
          "table": [
           {
            "cells": {
             "fill": {
              "color": "#EBF0F8"
             },
             "line": {
              "color": "white"
             }
            },
            "header": {
             "fill": {
              "color": "#C8D4E3"
             },
             "line": {
              "color": "white"
             }
            },
            "type": "table"
           }
          ]
         },
         "layout": {
          "annotationdefaults": {
           "arrowcolor": "#2a3f5f",
           "arrowhead": 0,
           "arrowwidth": 1
          },
          "coloraxis": {
           "colorbar": {
            "outlinewidth": 0,
            "ticks": ""
           }
          },
          "colorscale": {
           "diverging": [
            [
             0,
             "#8e0152"
            ],
            [
             0.1,
             "#c51b7d"
            ],
            [
             0.2,
             "#de77ae"
            ],
            [
             0.3,
             "#f1b6da"
            ],
            [
             0.4,
             "#fde0ef"
            ],
            [
             0.5,
             "#f7f7f7"
            ],
            [
             0.6,
             "#e6f5d0"
            ],
            [
             0.7,
             "#b8e186"
            ],
            [
             0.8,
             "#7fbc41"
            ],
            [
             0.9,
             "#4d9221"
            ],
            [
             1,
             "#276419"
            ]
           ],
           "sequential": [
            [
             0,
             "#0d0887"
            ],
            [
             0.1111111111111111,
             "#46039f"
            ],
            [
             0.2222222222222222,
             "#7201a8"
            ],
            [
             0.3333333333333333,
             "#9c179e"
            ],
            [
             0.4444444444444444,
             "#bd3786"
            ],
            [
             0.5555555555555556,
             "#d8576b"
            ],
            [
             0.6666666666666666,
             "#ed7953"
            ],
            [
             0.7777777777777778,
             "#fb9f3a"
            ],
            [
             0.8888888888888888,
             "#fdca26"
            ],
            [
             1,
             "#f0f921"
            ]
           ],
           "sequentialminus": [
            [
             0,
             "#0d0887"
            ],
            [
             0.1111111111111111,
             "#46039f"
            ],
            [
             0.2222222222222222,
             "#7201a8"
            ],
            [
             0.3333333333333333,
             "#9c179e"
            ],
            [
             0.4444444444444444,
             "#bd3786"
            ],
            [
             0.5555555555555556,
             "#d8576b"
            ],
            [
             0.6666666666666666,
             "#ed7953"
            ],
            [
             0.7777777777777778,
             "#fb9f3a"
            ],
            [
             0.8888888888888888,
             "#fdca26"
            ],
            [
             1,
             "#f0f921"
            ]
           ]
          },
          "colorway": [
           "#636efa",
           "#EF553B",
           "#00cc96",
           "#ab63fa",
           "#FFA15A",
           "#19d3f3",
           "#FF6692",
           "#B6E880",
           "#FF97FF",
           "#FECB52"
          ],
          "font": {
           "color": "#2a3f5f"
          },
          "geo": {
           "bgcolor": "white",
           "lakecolor": "white",
           "landcolor": "#E5ECF6",
           "showlakes": true,
           "showland": true,
           "subunitcolor": "white"
          },
          "hoverlabel": {
           "align": "left"
          },
          "hovermode": "closest",
          "mapbox": {
           "style": "light"
          },
          "paper_bgcolor": "white",
          "plot_bgcolor": "#E5ECF6",
          "polar": {
           "angularaxis": {
            "gridcolor": "white",
            "linecolor": "white",
            "ticks": ""
           },
           "bgcolor": "#E5ECF6",
           "radialaxis": {
            "gridcolor": "white",
            "linecolor": "white",
            "ticks": ""
           }
          },
          "scene": {
           "xaxis": {
            "backgroundcolor": "#E5ECF6",
            "gridcolor": "white",
            "gridwidth": 2,
            "linecolor": "white",
            "showbackground": true,
            "ticks": "",
            "zerolinecolor": "white"
           },
           "yaxis": {
            "backgroundcolor": "#E5ECF6",
            "gridcolor": "white",
            "gridwidth": 2,
            "linecolor": "white",
            "showbackground": true,
            "ticks": "",
            "zerolinecolor": "white"
           },
           "zaxis": {
            "backgroundcolor": "#E5ECF6",
            "gridcolor": "white",
            "gridwidth": 2,
            "linecolor": "white",
            "showbackground": true,
            "ticks": "",
            "zerolinecolor": "white"
           }
          },
          "shapedefaults": {
           "line": {
            "color": "#2a3f5f"
           }
          },
          "ternary": {
           "aaxis": {
            "gridcolor": "white",
            "linecolor": "white",
            "ticks": ""
           },
           "baxis": {
            "gridcolor": "white",
            "linecolor": "white",
            "ticks": ""
           },
           "bgcolor": "#E5ECF6",
           "caxis": {
            "gridcolor": "white",
            "linecolor": "white",
            "ticks": ""
           }
          },
          "title": {
           "x": 0.05
          },
          "xaxis": {
           "automargin": true,
           "gridcolor": "white",
           "linecolor": "white",
           "ticks": "",
           "title": {
            "standoff": 15
           },
           "zerolinecolor": "white",
           "zerolinewidth": 2
          },
          "yaxis": {
           "automargin": true,
           "gridcolor": "white",
           "linecolor": "white",
           "ticks": "",
           "title": {
            "standoff": 15
           },
           "zerolinecolor": "white",
           "zerolinewidth": 2
          }
         }
        },
        "title": {
         "text": "Partielle Korrelationen mit Relig Index"
        },
        "xaxis": {
         "anchor": "y",
         "autorange": true,
         "domain": [
          0,
          0.98
         ],
         "range": [
          -0.49999999999999994,
          9.5
         ],
         "title": {
          "text": "index"
         },
         "type": "category"
        },
        "xaxis2": {
         "anchor": "y2",
         "autorange": true,
         "domain": [
          0,
          0.98
         ],
         "matches": "x",
         "range": [
          -0.49999999999999994,
          9.5
         ],
         "showticklabels": false,
         "type": "category"
        },
        "xaxis3": {
         "anchor": "y3",
         "autorange": true,
         "domain": [
          0,
          0.98
         ],
         "matches": "x",
         "range": [
          -0.49999999999999994,
          9.5
         ],
         "showticklabels": false,
         "type": "category"
        },
        "xaxis4": {
         "anchor": "y4",
         "autorange": true,
         "domain": [
          0,
          0.98
         ],
         "matches": "x",
         "range": [
          -0.49999999999999994,
          9.5
         ],
         "showticklabels": false,
         "type": "category"
        },
        "xaxis5": {
         "anchor": "y5",
         "autorange": true,
         "domain": [
          0,
          0.98
         ],
         "matches": "x",
         "range": [
          -0.49999999999999994,
          9.5
         ],
         "showticklabels": false,
         "type": "category"
        },
        "xaxis6": {
         "anchor": "y6",
         "autorange": true,
         "domain": [
          0,
          0.98
         ],
         "matches": "x",
         "range": [
          -0.49999999999999994,
          9.5
         ],
         "showticklabels": false,
         "type": "category"
        },
        "yaxis": {
         "anchor": "x",
         "autorange": true,
         "domain": [
          0,
          0.14166666666666666
         ],
         "range": [
          -0.3277777777777778,
          0.2661111111111111
         ],
         "title": {
          "text": "r"
         },
         "type": "linear"
        },
        "yaxis2": {
         "anchor": "x2",
         "autorange": true,
         "domain": [
          0.17166666666666666,
          0.31333333333333335
         ],
         "matches": "y",
         "range": [
          -0.3277777777777778,
          0.2661111111111111
         ],
         "title": {
          "text": "r"
         },
         "type": "linear"
        },
        "yaxis3": {
         "anchor": "x3",
         "autorange": true,
         "domain": [
          0.3433333333333333,
          0.485
         ],
         "matches": "y",
         "range": [
          -0.3277777777777778,
          0.2661111111111111
         ],
         "title": {
          "text": "r"
         },
         "type": "linear"
        },
        "yaxis4": {
         "anchor": "x4",
         "autorange": true,
         "domain": [
          0.515,
          0.6566666666666667
         ],
         "matches": "y",
         "range": [
          -0.3277777777777778,
          0.2661111111111111
         ],
         "title": {
          "text": "r"
         },
         "type": "linear"
        },
        "yaxis5": {
         "anchor": "x5",
         "autorange": true,
         "domain": [
          0.6866666666666666,
          0.8283333333333334
         ],
         "matches": "y",
         "range": [
          -0.3277777777777778,
          0.2661111111111111
         ],
         "title": {
          "text": "r"
         },
         "type": "linear"
        },
        "yaxis6": {
         "anchor": "x6",
         "autorange": true,
         "domain": [
          0.8583333333333333,
          1
         ],
         "matches": "y",
         "range": [
          -0.3277777777777778,
          0.2661111111111111
         ],
         "title": {
          "text": "r"
         },
         "type": "linear"
        }
       }
      },
      "image/png": "[encoded data removed]",
      "text/html": [
       "<div>\n",
       "        \n",
       "        \n",
       "            <div id=\"bcc5e5ef-0e77-443a-9f54-9de8e02f1c05\" class=\"plotly-graph-div\" style=\"height:1500px; width:100%;\"></div>\n",
       "            <script type=\"text/javascript\">\n",
       "                require([\"plotly\"], function(Plotly) {\n",
       "                    window.PLOTLYENV=window.PLOTLYENV || {};\n",
       "                    \n",
       "                if (document.getElementById(\"bcc5e5ef-0e77-443a-9f54-9de8e02f1c05\")) {\n",
       "                    Plotly.newPlot(\n",
       "                        'bcc5e5ef-0e77-443a-9f54-9de8e02f1c05',\n",
       "                        [{\"error_y\": {\"array\": [0.03900000000000001, 0.043, 0.03999999999999998, 0.04100000000000001, 0.038, 0.036000000000000004, 0.041999999999999996, 0.033, 0.038000000000000006, 0.04100000000000001], \"arrayminus\": [0.041, 0.037, 0.04000000000000001, 0.03900000000000001, 0.041999999999999996, 0.044000000000000004, 0.038000000000000006, 0.037000000000000005, 0.042, 0.03900000000000001]}, \"hoverlabel\": {\"namelength\": 0}, \"hovertemplate\": \"Gruppe=Insgesamt<br>index=%{x}<br>r=%{y}\", \"legendgroup\": \"Gruppe=Insgesamt\", \"line\": {\"color\": \"#636efa\", \"dash\": \"solid\"}, \"mode\": \"lines\", \"name\": \"Gruppe=Insgesamt\", \"showlegend\": true, \"type\": \"scatter\", \"x\": [\"selfdirection\", \"stimulation\", \"hedonism\", \"achievement\", \"power\", \"security\", \"conformity\", \"tradition\", \"benevolence\", \"universalism\"], \"xaxis\": \"x6\", \"y\": [0.031, 0.047, 0.14, 0.099, 0.052, 0.034, -0.062, -0.213, -0.058, -0.101], \"yaxis\": \"y6\"}, {\"error_y\": {\"array\": [0.087, 0.08800000000000001, 0.08300000000000002, 0.086, 0.08800000000000002, 0.08199999999999999, 0.08299999999999999, 0.08399999999999999, 0.081, 0.081], \"arrayminus\": [0.083, 0.082, 0.087, 0.08399999999999999, 0.08199999999999999, 0.08800000000000001, 0.08700000000000002, 0.07599999999999998, 0.07899999999999999, 0.079]}, \"hoverlabel\": {\"namelength\": 0}, \"hovertemplate\": \"Gruppe=Katholiken<br>index=%{x}<br>r=%{y}\", \"legendgroup\": \"Gruppe=Katholiken\", \"line\": {\"color\": \"#EF553B\", \"dash\": \"solid\"}, \"mode\": \"lines\", \"name\": \"Gruppe=Katholiken\", \"showlegend\": true, \"type\": \"scatter\", \"x\": [\"selfdirection\", \"stimulation\", \"hedonism\", \"achievement\", \"power\", \"security\", \"conformity\", \"tradition\", \"benevolence\", \"universalism\"], \"xaxis\": \"x5\", \"y\": [0.003, 0.082, 0.147, 0.124, 0.052, -0.072, -0.053, -0.214, -0.101, -0.081], \"yaxis\": \"y5\"}, {\"error_y\": {\"array\": [0.072, 0.075, 0.07599999999999998, 0.07400000000000001, 0.076, 0.07300000000000001, 0.072, 0.07300000000000001, 0.07500000000000001, 0.071], \"arrayminus\": [0.078, 0.075, 0.07400000000000001, 0.076, 0.07400000000000001, 0.077, 0.06800000000000002, 0.067, 0.07500000000000001, 0.069]}, \"hoverlabel\": {\"namelength\": 0}, \"hovertemplate\": \"Gruppe=Protestanten<br>index=%{x}<br>r=%{y}\", \"legendgroup\": \"Gruppe=Protestanten\", \"line\": {\"color\": \"#00cc96\", \"dash\": \"solid\"}, \"mode\": \"lines\", \"name\": \"Gruppe=Protestanten\", \"showlegend\": true, \"type\": \"scatter\", \"x\": [\"selfdirection\", \"stimulation\", \"hedonism\", \"achievement\", \"power\", \"security\", \"conformity\", \"tradition\", \"benevolence\", \"universalism\"], \"xaxis\": \"x4\", \"y\": [0.018, 0.015, 0.164, 0.066, 0.004, 0.067, -0.102, -0.163, -0.025, -0.051], \"yaxis\": \"y4\"}, {\"error_y\": {\"array\": [0.064, 0.058, 0.063, 0.05900000000000001, 0.061, 0.06000000000000001, 0.061, 0.061, 0.063, 0.059], \"arrayminus\": [0.05600000000000001, 0.06199999999999999, 0.057, 0.061, 0.059000000000000004, 0.06, 0.059000000000000004, 0.059000000000000004, 0.05700000000000001, 0.061]}, \"hoverlabel\": {\"namelength\": 0}, \"hovertemplate\": \"Gruppe=konfessionslos<br>index=%{x}<br>r=%{y}\", \"legendgroup\": \"Gruppe=konfessionslos\", \"line\": {\"color\": \"#ab63fa\", \"dash\": \"solid\"}, \"mode\": \"lines\", \"name\": \"Gruppe=konfessionslos\", \"showlegend\": true, \"type\": \"scatter\", \"x\": [\"selfdirection\", \"stimulation\", \"hedonism\", \"achievement\", \"power\", \"security\", \"conformity\", \"tradition\", \"benevolence\", \"universalism\"], \"xaxis\": \"x3\", \"y\": [-0.104, -0.058, 0.057, 0.081, 0.069, 0.08, 0.069, -0.041, -0.103, -0.129], \"yaxis\": \"y3\"}, {\"error_y\": {\"array\": [0.06899999999999999, 0.062, 0.066, 0.06299999999999999, 0.063, 0.06699999999999999, 0.066, 0.062, 0.062, 0.067], \"arrayminus\": [0.07100000000000001, 0.068, 0.064, 0.067, 0.067, 0.063, 0.064, 0.057999999999999996, 0.068, 0.06299999999999999]}, \"hoverlabel\": {\"namelength\": 0}, \"hovertemplate\": \"Gruppe=Ostdeutschland<br>index=%{x}<br>r=%{y}\", \"legendgroup\": \"Gruppe=Ostdeutschland\", \"line\": {\"color\": \"#FFA15A\", \"dash\": \"solid\"}, \"mode\": \"lines\", \"name\": \"Gruppe=Ostdeutschland\", \"showlegend\": true, \"type\": \"scatter\", \"x\": [\"selfdirection\", \"stimulation\", \"hedonism\", \"achievement\", \"power\", \"security\", \"conformity\", \"tradition\", \"benevolence\", \"universalism\"], \"xaxis\": \"x2\", \"y\": [0.021, -0.022, 0.134, 0.117, 0.047, 0.083, -0.046, -0.202, -0.032, -0.117], \"yaxis\": \"y2\"}, {\"error_y\": {\"array\": [0.045, 0.04600000000000001, 0.05100000000000002, 0.05199999999999999, 0.04800000000000001, 0.044, 0.05199999999999999, 0.04600000000000001, 0.048, 0.051], \"arrayminus\": [0.045, 0.044, 0.04899999999999999, 0.048, 0.052, 0.046000000000000006, 0.048, 0.043999999999999984, 0.05199999999999999, 0.049]}, \"hoverlabel\": {\"namelength\": 0}, \"hovertemplate\": \"Gruppe=Westdeutschland<br>index=%{x}<br>r=%{y}\", \"legendgroup\": \"Gruppe=Westdeutschland\", \"line\": {\"color\": \"#19d3f3\", \"dash\": \"solid\"}, \"mode\": \"lines\", \"name\": \"Gruppe=Westdeutschland\", \"showlegend\": true, \"type\": \"scatter\", \"x\": [\"selfdirection\", \"stimulation\", \"hedonism\", \"achievement\", \"power\", \"security\", \"conformity\", \"tradition\", \"benevolence\", \"universalism\"], \"xaxis\": \"x\", \"y\": [0.065, 0.124, 0.149, 0.098, 0.052, -0.024, -0.102, -0.256, -0.068, -0.061], \"yaxis\": \"y\"}],\n",
       "                        {\"annotations\": [{\"font\": {}, \"showarrow\": false, \"text\": \"Gruppe=Westdeutschland\", \"textangle\": 90, \"x\": 0.98, \"xanchor\": \"left\", \"xref\": \"paper\", \"y\": 0.07083333333333333, \"yanchor\": \"middle\", \"yref\": \"paper\"}, {\"font\": {}, \"showarrow\": false, \"text\": \"Gruppe=Ostdeutschland\", \"textangle\": 90, \"x\": 0.98, \"xanchor\": \"left\", \"xref\": \"paper\", \"y\": 0.2425, \"yanchor\": \"middle\", \"yref\": \"paper\"}, {\"font\": {}, \"showarrow\": false, \"text\": \"Gruppe=konfessionslos\", \"textangle\": 90, \"x\": 0.98, \"xanchor\": \"left\", \"xref\": \"paper\", \"y\": 0.4141666666666667, \"yanchor\": \"middle\", \"yref\": \"paper\"}, {\"font\": {}, \"showarrow\": false, \"text\": \"Gruppe=Protestanten\", \"textangle\": 90, \"x\": 0.98, \"xanchor\": \"left\", \"xref\": \"paper\", \"y\": 0.5858333333333334, \"yanchor\": \"middle\", \"yref\": \"paper\"}, {\"font\": {}, \"showarrow\": false, \"text\": \"Gruppe=Katholiken\", \"textangle\": 90, \"x\": 0.98, \"xanchor\": \"left\", \"xref\": \"paper\", \"y\": 0.7575000000000001, \"yanchor\": \"middle\", \"yref\": \"paper\"}, {\"font\": {}, \"showarrow\": false, \"text\": \"Gruppe=Insgesamt\", \"textangle\": 90, \"x\": 0.98, \"xanchor\": \"left\", \"xref\": \"paper\", \"y\": 0.9291666666666667, \"yanchor\": \"middle\", \"yref\": \"paper\"}], \"height\": 1500, \"legend\": {\"tracegroupgap\": 0}, \"template\": {\"data\": {\"bar\": [{\"error_x\": {\"color\": \"#2a3f5f\"}, \"error_y\": {\"color\": \"#2a3f5f\"}, \"marker\": {\"line\": {\"color\": \"#E5ECF6\", \"width\": 0.5}}, \"type\": \"bar\"}], \"barpolar\": [{\"marker\": {\"line\": {\"color\": \"#E5ECF6\", \"width\": 0.5}}, \"type\": \"barpolar\"}], \"carpet\": [{\"aaxis\": {\"endlinecolor\": \"#2a3f5f\", \"gridcolor\": \"white\", \"linecolor\": \"white\", \"minorgridcolor\": \"white\", \"startlinecolor\": \"#2a3f5f\"}, \"baxis\": {\"endlinecolor\": \"#2a3f5f\", \"gridcolor\": \"white\", \"linecolor\": \"white\", \"minorgridcolor\": \"white\", \"startlinecolor\": \"#2a3f5f\"}, \"type\": \"carpet\"}], \"choropleth\": [{\"colorbar\": {\"outlinewidth\": 0, \"ticks\": \"\"}, \"type\": \"choropleth\"}], \"contour\": [{\"colorbar\": {\"outlinewidth\": 0, \"ticks\": \"\"}, \"colorscale\": [[0.0, \"#0d0887\"], [0.1111111111111111, \"#46039f\"], [0.2222222222222222, \"#7201a8\"], [0.3333333333333333, \"#9c179e\"], [0.4444444444444444, \"#bd3786\"], [0.5555555555555556, \"#d8576b\"], [0.6666666666666666, \"#ed7953\"], [0.7777777777777778, \"#fb9f3a\"], [0.8888888888888888, \"#fdca26\"], [1.0, \"#f0f921\"]], \"type\": \"contour\"}], \"contourcarpet\": [{\"colorbar\": {\"outlinewidth\": 0, \"ticks\": \"\"}, \"type\": \"contourcarpet\"}], \"heatmap\": [{\"colorbar\": {\"outlinewidth\": 0, \"ticks\": \"\"}, \"colorscale\": [[0.0, \"#0d0887\"], [0.1111111111111111, \"#46039f\"], [0.2222222222222222, \"#7201a8\"], [0.3333333333333333, \"#9c179e\"], [0.4444444444444444, \"#bd3786\"], [0.5555555555555556, \"#d8576b\"], [0.6666666666666666, \"#ed7953\"], [0.7777777777777778, \"#fb9f3a\"], [0.8888888888888888, \"#fdca26\"], [1.0, \"#f0f921\"]], \"type\": \"heatmap\"}], \"heatmapgl\": [{\"colorbar\": {\"outlinewidth\": 0, \"ticks\": \"\"}, \"colorscale\": [[0.0, \"#0d0887\"], [0.1111111111111111, \"#46039f\"], [0.2222222222222222, \"#7201a8\"], [0.3333333333333333, \"#9c179e\"], [0.4444444444444444, \"#bd3786\"], [0.5555555555555556, \"#d8576b\"], [0.6666666666666666, \"#ed7953\"], [0.7777777777777778, \"#fb9f3a\"], [0.8888888888888888, \"#fdca26\"], [1.0, \"#f0f921\"]], \"type\": \"heatmapgl\"}], \"histogram\": [{\"marker\": {\"colorbar\": {\"outlinewidth\": 0, \"ticks\": \"\"}}, \"type\": \"histogram\"}], \"histogram2d\": [{\"colorbar\": {\"outlinewidth\": 0, \"ticks\": \"\"}, \"colorscale\": [[0.0, \"#0d0887\"], [0.1111111111111111, \"#46039f\"], [0.2222222222222222, \"#7201a8\"], [0.3333333333333333, \"#9c179e\"], [0.4444444444444444, \"#bd3786\"], [0.5555555555555556, \"#d8576b\"], [0.6666666666666666, \"#ed7953\"], [0.7777777777777778, \"#fb9f3a\"], [0.8888888888888888, \"#fdca26\"], [1.0, \"#f0f921\"]], \"type\": \"histogram2d\"}], \"histogram2dcontour\": [{\"colorbar\": {\"outlinewidth\": 0, \"ticks\": \"\"}, \"colorscale\": [[0.0, \"#0d0887\"], [0.1111111111111111, \"#46039f\"], [0.2222222222222222, \"#7201a8\"], [0.3333333333333333, \"#9c179e\"], [0.4444444444444444, \"#bd3786\"], [0.5555555555555556, \"#d8576b\"], [0.6666666666666666, \"#ed7953\"], [0.7777777777777778, \"#fb9f3a\"], [0.8888888888888888, \"#fdca26\"], [1.0, \"#f0f921\"]], \"type\": \"histogram2dcontour\"}], \"mesh3d\": [{\"colorbar\": {\"outlinewidth\": 0, \"ticks\": \"\"}, \"type\": \"mesh3d\"}], \"parcoords\": [{\"line\": {\"colorbar\": {\"outlinewidth\": 0, \"ticks\": \"\"}}, \"type\": \"parcoords\"}], \"pie\": [{\"automargin\": true, \"type\": \"pie\"}], \"scatter\": [{\"marker\": {\"colorbar\": {\"outlinewidth\": 0, \"ticks\": \"\"}}, \"type\": \"scatter\"}], \"scatter3d\": [{\"line\": {\"colorbar\": {\"outlinewidth\": 0, \"ticks\": \"\"}}, \"marker\": {\"colorbar\": {\"outlinewidth\": 0, \"ticks\": \"\"}}, \"type\": \"scatter3d\"}], \"scattercarpet\": [{\"marker\": {\"colorbar\": {\"outlinewidth\": 0, \"ticks\": \"\"}}, \"type\": \"scattercarpet\"}], \"scattergeo\": [{\"marker\": {\"colorbar\": {\"outlinewidth\": 0, \"ticks\": \"\"}}, \"type\": \"scattergeo\"}], \"scattergl\": [{\"marker\": {\"colorbar\": {\"outlinewidth\": 0, \"ticks\": \"\"}}, \"type\": \"scattergl\"}], \"scattermapbox\": [{\"marker\": {\"colorbar\": {\"outlinewidth\": 0, \"ticks\": \"\"}}, \"type\": \"scattermapbox\"}], \"scatterpolar\": [{\"marker\": {\"colorbar\": {\"outlinewidth\": 0, \"ticks\": \"\"}}, \"type\": \"scatterpolar\"}], \"scatterpolargl\": [{\"marker\": {\"colorbar\": {\"outlinewidth\": 0, \"ticks\": \"\"}}, \"type\": \"scatterpolargl\"}], \"scatterternary\": [{\"marker\": {\"colorbar\": {\"outlinewidth\": 0, \"ticks\": \"\"}}, \"type\": \"scatterternary\"}], \"surface\": [{\"colorbar\": {\"outlinewidth\": 0, \"ticks\": \"\"}, \"colorscale\": [[0.0, \"#0d0887\"], [0.1111111111111111, \"#46039f\"], [0.2222222222222222, \"#7201a8\"], [0.3333333333333333, \"#9c179e\"], [0.4444444444444444, \"#bd3786\"], [0.5555555555555556, \"#d8576b\"], [0.6666666666666666, \"#ed7953\"], [0.7777777777777778, \"#fb9f3a\"], [0.8888888888888888, \"#fdca26\"], [1.0, \"#f0f921\"]], \"type\": \"surface\"}], \"table\": [{\"cells\": {\"fill\": {\"color\": \"#EBF0F8\"}, \"line\": {\"color\": \"white\"}}, \"header\": {\"fill\": {\"color\": \"#C8D4E3\"}, \"line\": {\"color\": \"white\"}}, \"type\": \"table\"}]}, \"layout\": {\"annotationdefaults\": {\"arrowcolor\": \"#2a3f5f\", \"arrowhead\": 0, \"arrowwidth\": 1}, \"coloraxis\": {\"colorbar\": {\"outlinewidth\": 0, \"ticks\": \"\"}}, \"colorscale\": {\"diverging\": [[0, \"#8e0152\"], [0.1, \"#c51b7d\"], [0.2, \"#de77ae\"], [0.3, \"#f1b6da\"], [0.4, \"#fde0ef\"], [0.5, \"#f7f7f7\"], [0.6, \"#e6f5d0\"], [0.7, \"#b8e186\"], [0.8, \"#7fbc41\"], [0.9, \"#4d9221\"], [1, \"#276419\"]], \"sequential\": [[0.0, \"#0d0887\"], [0.1111111111111111, \"#46039f\"], [0.2222222222222222, \"#7201a8\"], [0.3333333333333333, \"#9c179e\"], [0.4444444444444444, \"#bd3786\"], [0.5555555555555556, \"#d8576b\"], [0.6666666666666666, \"#ed7953\"], [0.7777777777777778, \"#fb9f3a\"], [0.8888888888888888, \"#fdca26\"], [1.0, \"#f0f921\"]], \"sequentialminus\": [[0.0, \"#0d0887\"], [0.1111111111111111, \"#46039f\"], [0.2222222222222222, \"#7201a8\"], [0.3333333333333333, \"#9c179e\"], [0.4444444444444444, \"#bd3786\"], [0.5555555555555556, \"#d8576b\"], [0.6666666666666666, \"#ed7953\"], [0.7777777777777778, \"#fb9f3a\"], [0.8888888888888888, \"#fdca26\"], [1.0, \"#f0f921\"]]}, \"colorway\": [\"#636efa\", \"#EF553B\", \"#00cc96\", \"#ab63fa\", \"#FFA15A\", \"#19d3f3\", \"#FF6692\", \"#B6E880\", \"#FF97FF\", \"#FECB52\"], \"font\": {\"color\": \"#2a3f5f\"}, \"geo\": {\"bgcolor\": \"white\", \"lakecolor\": \"white\", \"landcolor\": \"#E5ECF6\", \"showlakes\": true, \"showland\": true, \"subunitcolor\": \"white\"}, \"hoverlabel\": {\"align\": \"left\"}, \"hovermode\": \"closest\", \"mapbox\": {\"style\": \"light\"}, \"paper_bgcolor\": \"white\", \"plot_bgcolor\": \"#E5ECF6\", \"polar\": {\"angularaxis\": {\"gridcolor\": \"white\", \"linecolor\": \"white\", \"ticks\": \"\"}, \"bgcolor\": \"#E5ECF6\", \"radialaxis\": {\"gridcolor\": \"white\", \"linecolor\": \"white\", \"ticks\": \"\"}}, \"scene\": {\"xaxis\": {\"backgroundcolor\": \"#E5ECF6\", \"gridcolor\": \"white\", \"gridwidth\": 2, \"linecolor\": \"white\", \"showbackground\": true, \"ticks\": \"\", \"zerolinecolor\": \"white\"}, \"yaxis\": {\"backgroundcolor\": \"#E5ECF6\", \"gridcolor\": \"white\", \"gridwidth\": 2, \"linecolor\": \"white\", \"showbackground\": true, \"ticks\": \"\", \"zerolinecolor\": \"white\"}, \"zaxis\": {\"backgroundcolor\": \"#E5ECF6\", \"gridcolor\": \"white\", \"gridwidth\": 2, \"linecolor\": \"white\", \"showbackground\": true, \"ticks\": \"\", \"zerolinecolor\": \"white\"}}, \"shapedefaults\": {\"line\": {\"color\": \"#2a3f5f\"}}, \"ternary\": {\"aaxis\": {\"gridcolor\": \"white\", \"linecolor\": \"white\", \"ticks\": \"\"}, \"baxis\": {\"gridcolor\": \"white\", \"linecolor\": \"white\", \"ticks\": \"\"}, \"bgcolor\": \"#E5ECF6\", \"caxis\": {\"gridcolor\": \"white\", \"linecolor\": \"white\", \"ticks\": \"\"}}, \"title\": {\"x\": 0.05}, \"xaxis\": {\"automargin\": true, \"gridcolor\": \"white\", \"linecolor\": \"white\", \"ticks\": \"\", \"title\": {\"standoff\": 15}, \"zerolinecolor\": \"white\", \"zerolinewidth\": 2}, \"yaxis\": {\"automargin\": true, \"gridcolor\": \"white\", \"linecolor\": \"white\", \"ticks\": \"\", \"title\": {\"standoff\": 15}, \"zerolinecolor\": \"white\", \"zerolinewidth\": 2}}}, \"title\": {\"text\": \"Partielle Korrelationen mit Relig Index\"}, \"xaxis\": {\"anchor\": \"y\", \"domain\": [0.0, 0.98], \"title\": {\"text\": \"index\"}}, \"xaxis2\": {\"anchor\": \"y2\", \"domain\": [0.0, 0.98], \"matches\": \"x\", \"showticklabels\": false}, \"xaxis3\": {\"anchor\": \"y3\", \"domain\": [0.0, 0.98], \"matches\": \"x\", \"showticklabels\": false}, \"xaxis4\": {\"anchor\": \"y4\", \"domain\": [0.0, 0.98], \"matches\": \"x\", \"showticklabels\": false}, \"xaxis5\": {\"anchor\": \"y5\", \"domain\": [0.0, 0.98], \"matches\": \"x\", \"showticklabels\": false}, \"xaxis6\": {\"anchor\": \"y6\", \"domain\": [0.0, 0.98], \"matches\": \"x\", \"showticklabels\": false}, \"yaxis\": {\"anchor\": \"x\", \"domain\": [0.0, 0.14166666666666666], \"title\": {\"text\": \"r\"}}, \"yaxis2\": {\"anchor\": \"x2\", \"domain\": [0.17166666666666666, 0.31333333333333335], \"matches\": \"y\", \"title\": {\"text\": \"r\"}}, \"yaxis3\": {\"anchor\": \"x3\", \"domain\": [0.3433333333333333, 0.485], \"matches\": \"y\", \"title\": {\"text\": \"r\"}}, \"yaxis4\": {\"anchor\": \"x4\", \"domain\": [0.515, 0.6566666666666667], \"matches\": \"y\", \"title\": {\"text\": \"r\"}}, \"yaxis5\": {\"anchor\": \"x5\", \"domain\": [0.6866666666666666, 0.8283333333333334], \"matches\": \"y\", \"title\": {\"text\": \"r\"}}, \"yaxis6\": {\"anchor\": \"x6\", \"domain\": [0.8583333333333333, 1.0], \"matches\": \"y\", \"title\": {\"text\": \"r\"}}},\n",
       "                        {\"responsive\": true}\n",
       "                    ).then(function(){\n",
       "                            \n",
       "var gd = document.getElementById('bcc5e5ef-0e77-443a-9f54-9de8e02f1c05');\n",
       "var x = new MutationObserver(function (mutations, observer) {{\n",
       "        var display = window.getComputedStyle(gd).display;\n",
       "        if (!display || display === 'none') {{\n",
       "            console.log([gd, 'removed!']);\n",
       "            Plotly.purge(gd);\n",
       "            observer.disconnect();\n",
       "        }}\n",
       "}});\n",
       "\n",
       "// Listen for the removal of the full notebook cells\n",
       "var notebookContainer = gd.closest('#notebook-container');\n",
       "if (notebookContainer) {{\n",
       "    x.observe(notebookContainer, {childList: true});\n",
       "}}\n",
       "\n",
       "// Listen for the clearing of the current output cell\n",
       "var outputEl = gd.closest('.output');\n",
       "if (outputEl) {{\n",
       "    x.observe(outputEl, {childList: true});\n",
       "}}\n",
       "\n",
       "                        })\n",
       "                };\n",
       "                });\n",
       "            </script>\n",
       "        </div>"
      ]
     },
     "metadata": {},
     "output_type": "display_data"
    }
   ],
   "source": [
    "px.line(df_list.reset_index(),x='index',y='r',\n",
    "        title='Partielle Korrelationen mit Relig Index',\n",
    "        error_y='error_y',error_y_minus='error_y_minus',\n",
    "       #line_group='Gruppe',\n",
    "        color='Gruppe',facet_row='Gruppe',\n",
    "       height=1500)"
   ]
  },
  {
   "cell_type": "code",
   "execution_count": 35,
   "metadata": {},
   "outputs": [
    {
     "data": {
      "text/html": [
       "<div>\n",
       "<style scoped>\n",
       "    .dataframe tbody tr th:only-of-type {\n",
       "        vertical-align: middle;\n",
       "    }\n",
       "\n",
       "    .dataframe tbody tr th {\n",
       "        vertical-align: top;\n",
       "    }\n",
       "\n",
       "    .dataframe thead tr th {\n",
       "        text-align: left;\n",
       "    }\n",
       "</style>\n",
       "<table border=\"1\" class=\"dataframe\">\n",
       "  <thead>\n",
       "    <tr>\n",
       "      <th></th>\n",
       "      <th colspan=\"6\" halign=\"left\">r</th>\n",
       "    </tr>\n",
       "    <tr>\n",
       "      <th>Gruppe</th>\n",
       "      <th>Insgesamt</th>\n",
       "      <th>Katholiken</th>\n",
       "      <th>Ostdeutschland</th>\n",
       "      <th>Protestanten</th>\n",
       "      <th>Westdeutschland</th>\n",
       "      <th>konfessionslos</th>\n",
       "    </tr>\n",
       "  </thead>\n",
       "  <tbody>\n",
       "    <tr>\n",
       "      <th>achievement</th>\n",
       "      <td>0.099</td>\n",
       "      <td>0.124</td>\n",
       "      <td>0.117</td>\n",
       "      <td>0.066</td>\n",
       "      <td>0.098</td>\n",
       "      <td>0.081</td>\n",
       "    </tr>\n",
       "    <tr>\n",
       "      <th>benevolence</th>\n",
       "      <td>-0.058</td>\n",
       "      <td>-0.101</td>\n",
       "      <td>-0.032</td>\n",
       "      <td>-0.025</td>\n",
       "      <td>-0.068</td>\n",
       "      <td>-0.103</td>\n",
       "    </tr>\n",
       "    <tr>\n",
       "      <th>conformity</th>\n",
       "      <td>-0.062</td>\n",
       "      <td>-0.053</td>\n",
       "      <td>-0.046</td>\n",
       "      <td>-0.102</td>\n",
       "      <td>-0.102</td>\n",
       "      <td>0.069</td>\n",
       "    </tr>\n",
       "    <tr>\n",
       "      <th>hedonism</th>\n",
       "      <td>0.140</td>\n",
       "      <td>0.147</td>\n",
       "      <td>0.134</td>\n",
       "      <td>0.164</td>\n",
       "      <td>0.149</td>\n",
       "      <td>0.057</td>\n",
       "    </tr>\n",
       "    <tr>\n",
       "      <th>power</th>\n",
       "      <td>0.052</td>\n",
       "      <td>0.052</td>\n",
       "      <td>0.047</td>\n",
       "      <td>0.004</td>\n",
       "      <td>0.052</td>\n",
       "      <td>0.069</td>\n",
       "    </tr>\n",
       "    <tr>\n",
       "      <th>security</th>\n",
       "      <td>0.034</td>\n",
       "      <td>-0.072</td>\n",
       "      <td>0.083</td>\n",
       "      <td>0.067</td>\n",
       "      <td>-0.024</td>\n",
       "      <td>0.080</td>\n",
       "    </tr>\n",
       "    <tr>\n",
       "      <th>selfdirection</th>\n",
       "      <td>0.031</td>\n",
       "      <td>0.003</td>\n",
       "      <td>0.021</td>\n",
       "      <td>0.018</td>\n",
       "      <td>0.065</td>\n",
       "      <td>-0.104</td>\n",
       "    </tr>\n",
       "    <tr>\n",
       "      <th>stimulation</th>\n",
       "      <td>0.047</td>\n",
       "      <td>0.082</td>\n",
       "      <td>-0.022</td>\n",
       "      <td>0.015</td>\n",
       "      <td>0.124</td>\n",
       "      <td>-0.058</td>\n",
       "    </tr>\n",
       "    <tr>\n",
       "      <th>tradition</th>\n",
       "      <td>-0.213</td>\n",
       "      <td>-0.214</td>\n",
       "      <td>-0.202</td>\n",
       "      <td>-0.163</td>\n",
       "      <td>-0.256</td>\n",
       "      <td>-0.041</td>\n",
       "    </tr>\n",
       "    <tr>\n",
       "      <th>universalism</th>\n",
       "      <td>-0.101</td>\n",
       "      <td>-0.081</td>\n",
       "      <td>-0.117</td>\n",
       "      <td>-0.051</td>\n",
       "      <td>-0.061</td>\n",
       "      <td>-0.129</td>\n",
       "    </tr>\n",
       "  </tbody>\n",
       "</table>\n",
       "</div>"
      ],
      "text/plain": [
       "                      r                                         \\\n",
       "Gruppe        Insgesamt Katholiken Ostdeutschland Protestanten   \n",
       "achievement       0.099      0.124          0.117        0.066   \n",
       "benevolence      -0.058     -0.101         -0.032       -0.025   \n",
       "conformity       -0.062     -0.053         -0.046       -0.102   \n",
       "hedonism          0.140      0.147          0.134        0.164   \n",
       "power             0.052      0.052          0.047        0.004   \n",
       "security          0.034     -0.072          0.083        0.067   \n",
       "selfdirection     0.031      0.003          0.021        0.018   \n",
       "stimulation       0.047      0.082         -0.022        0.015   \n",
       "tradition        -0.213     -0.214         -0.202       -0.163   \n",
       "universalism     -0.101     -0.081         -0.117       -0.051   \n",
       "\n",
       "                                              \n",
       "Gruppe        Westdeutschland konfessionslos  \n",
       "achievement             0.098          0.081  \n",
       "benevolence            -0.068         -0.103  \n",
       "conformity             -0.102          0.069  \n",
       "hedonism                0.149          0.057  \n",
       "power                   0.052          0.069  \n",
       "security               -0.024          0.080  \n",
       "selfdirection           0.065         -0.104  \n",
       "stimulation             0.124         -0.058  \n",
       "tradition              -0.256         -0.041  \n",
       "universalism           -0.061         -0.129  "
      ]
     },
     "execution_count": 35,
     "metadata": {},
     "output_type": "execute_result"
    }
   ],
   "source": [
    "#df_list[['r','Gruppe']].reset_index().set_index(['index','Gruppe']).unstack(level=1)\n",
    "df_list[['r','Gruppe']].set_index([df_list.index,'Gruppe']).unstack(level=1)"
   ]
  }
 ],
 "metadata": {
  "kernelspec": {
   "display_name": "Python 3",
   "language": "python",
   "name": "python3"
  },
  "language_info": {
   "codemirror_mode": {
    "name": "ipython",
    "version": 3
   },
   "file_extension": ".py",
   "mimetype": "text/x-python",
   "name": "python",
   "nbconvert_exporter": "python",
   "pygments_lexer": "ipython3",
   "version": "3.8.3"
  },
  "toc-autonumbering": true
 },
 "nbformat": 4,
 "nbformat_minor": 4
}
